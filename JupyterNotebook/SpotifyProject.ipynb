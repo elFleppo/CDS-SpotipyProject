{
 "cells": [
  {
   "attachments": {},
   "cell_type": "markdown",
   "id": "92a67c24",
   "metadata": {},
   "source": [
    "# Implement all the necessary imports"
   ]
  },
  {
   "cell_type": "code",
   "execution_count": 85,
   "id": "f59494c4",
   "metadata": {},
   "outputs": [],
   "source": [
    "# Gute Fragestellung für datascience Projekt (Sportify)\n",
    "# Gibt es einen Zusammenhang zwischen eigenen Musikgeschmack und der Geschmack der anderen?\n",
    "\n",
    "# Importieren der benötigten Bibliotheken\n",
    "import sys\n",
    "import os as os\n",
    "assert sys.version_info >= (3, 5)\n",
    "import sklearn\n",
    "assert sklearn.__version__ >= \"0.20\"\n",
    "import matplotlib as mpl\n",
    "import matplotlib.pyplot as plt\n",
    "import numpy as np\n",
    "from sklearn.model_selection import train_test_split\n",
    "import seaborn as sns\n",
    "import spotipy\n",
    "import pandas as pd\n",
    "from spotipy.oauth2 import SpotifyClientCredentials\n",
    "from sklearn.cluster import KMeans\n",
    "from sklearn.metrics import silhouette_score\n",
    "from sklearn.preprocessing import StandardScaler\n",
    "from sklearn.preprocessing import LabelEncoder\n",
    "from tqdm import tqdm_notebook\n",
    "from matplotlib import cm\n",
    "from sklearn.datasets import make_blobs\n",
    "from sklearn.metrics import silhouette_samples\n",
    "from sklearn.cluster import DBSCAN\n",
    "from sklearn import metrics\n",
    "from sklearn.cluster import AgglomerativeClustering\n",
    "from sklearn.metrics import v_measure_score\n",
    "\n"
   ]
  },
  {
   "attachments": {},
   "cell_type": "markdown",
   "id": "0b3cf57c",
   "metadata": {
    "collapsed": false
   },
   "source": [
    "# Preperation of the data"
   ]
  },
  {
   "cell_type": "code",
   "execution_count": 86,
   "id": "9c240b82",
   "metadata": {},
   "outputs": [],
   "source": [
    "CLIENT_ID = \"082b3dd7a97642d49b60a647673caa75\"\n",
    "CLIENT_SECRET = \"276e4715f8a14a34a7622c0105a8588c\"\n",
    "USERSANGEETHS = \"qme120m1x3bg2wrtw3haiiyrb\"\n",
    "USERSTIAFEN = \"stiafen\"\n",
    "\n",
    "client_credentials_manager = SpotifyClientCredentials(client_id=CLIENT_ID, client_secret=CLIENT_SECRET)\n",
    "sp = spotipy.Spotify(client_credentials_manager=client_credentials_manager) #spotify object to access API"
   ]
  },
  {
   "cell_type": "code",
   "execution_count": 87,
   "id": "701fafd8",
   "metadata": {},
   "outputs": [],
   "source": [
    "# get all playlists of a user\n",
    "def get_playlists(user):\n",
    "    playlists = sp.user_playlists(user)\n",
    "    playlist_ids = []\n",
    "    while playlists:\n",
    "        for i, playlist in enumerate(playlists['items']):\n",
    "            playlist_ids.append(playlist['id'])\n",
    "        if playlists['next']:\n",
    "            playlists = sp.next(playlists)\n",
    "        else:\n",
    "            playlists = None\n",
    "    return playlist_ids"
   ]
  },
  {
   "cell_type": "code",
   "execution_count": 88,
   "id": "a36e108f",
   "metadata": {},
   "outputs": [],
   "source": [
    "playlistsSangeeths = get_playlists(USERSANGEETHS)\n",
    "playlistsTiafen = get_playlists(USERSTIAFEN)\n",
    "\n",
    "# get the name of the playlists, will later be used to print all available playlists for a user\n",
    "def get_playlist_name(user, playlist_id):\n",
    "    playlist = sp.user_playlist(user, playlist_id)\n",
    "    return playlist['name'], playlist['id']\n"
   ]
  },
  {
   "cell_type": "code",
   "execution_count": 89,
   "id": "af5d90d9",
   "metadata": {
    "collapsed": false
   },
   "outputs": [],
   "source": [
    "#Funktion welche mittels user und playlist ID alle Tracks für eine Playlist ausgibt\n",
    "def get_playlist_tracks(user, playlist_id):\n",
    "    results = sp.user_playlist_tracks(user, playlist_id)\n",
    "    tracks = results['items']\n",
    "    while results['next']:\n",
    "        results = sp.next(results)\n",
    "        tracks.extend(results['items'])\n",
    "    df = pd.DataFrame(tracks)\n",
    "    df = df['track']\n",
    "    df = df.apply(pd.Series)\n",
    "    return df\n"
   ]
  },
  {
   "cell_type": "code",
   "execution_count": 90,
   "id": "67f7736f",
   "metadata": {
    "collapsed": false
   },
   "outputs": [],
   "source": [
    "#Funktion welche mittels user und playlist ID alle Tracks für eine Playlist ausgibt\n",
    "def get_playlist_tracks_artists(user, playlist_id):\n",
    "    results = sp.user_playlist_tracks(user, playlist_id)\n",
    "    tracks = results['items']\n",
    "    while results['next']:\n",
    "        results = sp.next(results)\n",
    "        tracks.extend(results['items'])\n",
    "    return tracks"
   ]
  },
  {
   "cell_type": "code",
   "execution_count": 91,
   "id": "91106b51",
   "metadata": {
    "collapsed": false
   },
   "outputs": [],
   "source": [
    "def get_audio_features(user, tracklist):\n",
    "    #Dateinamen festlegen, falls vorhanden werden diese Daten ausgewertet statt Abfragen per API zu machen\n",
    "\n",
    "    if not os.path.isfile(\"audiodata.csv\"):\n",
    "        features = []\n",
    "        #Extract Audio Features\n",
    "        for uri in tracklist['uri']:\n",
    "\n",
    "            features = features+sp.audio_features(uri)\n",
    "\n",
    "        #Dataframe generieren\n",
    "\n",
    "        audioFeatures = pd.DataFrame(features)\n",
    "        #Für den Datensatz mit welchem wir die Modelle testen möchten brauchen wir keinen user eintrag, da dieser ja predicted werden soll\n",
    "        if not user == \"validation\":\n",
    "            audioFeatures['user'] = user\n",
    "        #Daten exportieren\n",
    "\n",
    "        return audioFeatures\n",
    "\n",
    "    else:\n",
    "        #Falls vorhanden lese csv als Dataframe ein, wobei userspezifisch\n",
    "        audioFeatures = pd.read_csv(\"audiodata.csv\")\n",
    "        audioFeatures = audioFeatures.loc[audioFeatures['user'] == user]\n",
    "        return audioFeatures"
   ]
  },
  {
   "cell_type": "markdown",
   "id": "588b3d48",
   "metadata": {
    "collapsed": false
   },
   "source": [
    "Um nun die ID der playlist zu erhalten, in welcher wir unsere Lieblingssongs gespeichert haben nutzen wir die zuvor definierte Funktion `get_playlist_name` welche über das Resultat der Funktion `get_playlists` für den jeweiligen Benutzer läuft.\n",
    "Um die Übersicht zu behalten haben wir unsere Playlists *Fav Songs \"NAME\"* genannt"
   ]
  },
  {
   "cell_type": "code",
   "execution_count": 92,
   "id": "0db9499e",
   "metadata": {
    "collapsed": false
   },
   "outputs": [
    {
     "name": "stdout",
     "output_type": "stream",
     "text": [
      "('Testo pur🏋🏽', '7o70luarSZS5DHoODMH51U')\n",
      "('Fav Songs Sangeeths', '2E7GAf1h3F19ezc18w1NpZ')\n",
      "('Tamil Vibes', '64Lq6W07GIOs087K88iOzT')\n",
      "('Arabic  Vibes', '1Rr83zHLDULxQDbC9taydm')\n",
      "('Albanien Vibes', '6jyy1HUool6rj0xWLVsAPC')\n",
      "('UK DRILL ', '5ycwKESGY1Z71ftYWmTVJs')\n",
      "('Baba Vibes', '67a5HCEjwm4aXvjPVoxoAX')\n",
      "('DataScience Validation', '1k287mopfeltXpHYYab7di')\n",
      "('Fav Songs Stiafen', '0ekbyk9EKkCf4MBjrQoM2D')\n",
      "('Favorite Songs', '4DeCJm3aeeb0TTdthf8MGY')\n",
      "('Caterpillar (feat. Eminem & King Green)', '1JKSl9B6hJNCGFs9FdOq8I')\n",
      "('Meine Playlist Nr.\\xa034', '3uBDJVShkGJKFxPNnjC7IL')\n",
      "('Dein Mixtape\\xa06 - ZUSAMMENGESTELLT FÜR STIAFEN:21.06.19', '48I13UCIzloZpyRE23zwIa')\n",
      "('Mixtape 3', '2jnqcj5CxaBLHjzVafdmce')\n",
      "('Oldschool', '4RjDNPzba04zlAan0a4bTE')\n"
     ]
    }
   ],
   "source": [
    "for playlist in playlistsSangeeths:\n",
    "    print(get_playlist_name(USERSANGEETHS, playlist))\n",
    "\n",
    "for playlist in playlistsTiafen:\n",
    "    print(get_playlist_name(USERSTIAFEN, playlist))"
   ]
  },
  {
   "cell_type": "markdown",
   "id": "14384b03",
   "metadata": {
    "collapsed": false
   },
   "source": [
    "# Datensatz laden, filtern und verstehen\n",
    "Nun da wir die Playlist ID haben können wir die Tracks aus unseren Fav Songs Playlists auslesen und mittels unserer Funktion die audio Features extrahieren.\n",
    "Zuerst schreiben wir also alle Tracks mit deren Informationen in eine Liste `tracksSangeeths` und `tracksStiafen`"
   ]
  },
  {
   "cell_type": "code",
   "execution_count": 93,
   "id": "b4a668b6",
   "metadata": {},
   "outputs": [],
   "source": [
    "#Variablen für Playlists Sangeeths und Stiafen\n",
    "favoritplaylistSangeeths = \"2E7GAf1h3F19ezc18w1NpZ\"\n",
    "favoritplaylistStiafen = \"0ekbyk9EKkCf4MBjrQoM2D\"\n",
    "#In dieser Playlist haben wir Tracks welche wir von unseren ML modellen predicten lassen wollen\n",
    "validationPlaylist = '1k287mopfeltXpHYYab7di'\n",
    "\n",
    "# Für Beide User wird eine Liste mit den Trackinfos erstellt\n",
    "tracksSangeeths = get_playlist_tracks(USERSANGEETHS, favoritplaylistSangeeths)\n",
    "tracksStiafen = get_playlist_tracks(USERSTIAFEN, favoritplaylistStiafen)"
   ]
  },
  {
   "cell_type": "markdown",
   "id": "86985d0d",
   "metadata": {
    "collapsed": false
   },
   "source": [
    "Nun holen wir alle Audio features mit unserer Methode und speichern diese in dem Dataframe *rawAudioFeaturesTotal*."
   ]
  },
  {
   "cell_type": "code",
   "execution_count": 94,
   "id": "9e6c201f",
   "metadata": {
    "collapsed": false
   },
   "outputs": [],
   "source": [
    "audioFeaturesStiafen = get_audio_features(\"Stiafen\", tracksStiafen)\n",
    "audioFeaturesSangeeths = get_audio_features(\"Sangeeths\", tracksSangeeths)"
   ]
  },
  {
   "cell_type": "markdown",
   "id": "29cb5d83",
   "metadata": {
    "collapsed": false
   },
   "source": [
    "Falls die Datei *rawdata.csv* bereits angelegt wurde, werden die Daten daraus eingelesen"
   ]
  },
  {
   "cell_type": "code",
   "execution_count": 95,
   "id": "120ae7db",
   "metadata": {
    "collapsed": false
   },
   "outputs": [
    {
     "name": "stderr",
     "output_type": "stream",
     "text": [
      "C:\\Users\\Startklar\\AppData\\Local\\Temp\\ipykernel_20572\\2950041054.py:2: FutureWarning: The frame.append method is deprecated and will be removed from pandas in a future version. Use pandas.concat instead.\n",
      "  rawAudioFeaturesTotal = audioFeaturesStiafen.append(audioFeaturesSangeeths)\n"
     ]
    }
   ],
   "source": [
    "\n",
    "#Um über das Gesamtbild der Daten eine aussage machen zu können nehmen wir beide Dataframes in eines\n",
    "rawAudioFeaturesTotal = audioFeaturesStiafen.append(audioFeaturesSangeeths)\n",
    "if not os.path.isfile(\"audiodata.csv\"):\n",
    "    rawAudioFeaturesTotal.to_csv(\"audiodata.csv\")\n"
   ]
  },
  {
   "cell_type": "markdown",
   "id": "e29d6f29",
   "metadata": {
    "collapsed": false
   },
   "source": [
    "Wir säubern nun noch die Rohdaten ein wenig, das gleiche machen wir mit den Validierungsdatensatz"
   ]
  },
  {
   "cell_type": "code",
   "execution_count": 96,
   "id": "dde2b89e",
   "metadata": {
    "collapsed": false
   },
   "outputs": [],
   "source": [
    "#Säubere Rohdaten\n",
    "if \"Unnamed: 0\" in rawAudioFeaturesTotal:\n",
    "    rawAudioFeaturesTotal.drop(\"Unnamed: 0\", axis=1, inplace=True)\n",
    "rawAudioFeaturesTotal.drop(\"analysis_url\", axis=1, inplace=True)\n",
    "rawAudioFeaturesTotal.drop(\"id\", axis=1, inplace=True)\n",
    "rawAudioFeaturesTotal.drop(\"uri\", axis=1, inplace=True)\n",
    "rawAudioFeaturesTotal.drop(\"type\", axis=1, inplace=True)\n",
    "rawAudioFeaturesTotal.drop(\"track_href\", axis=1, inplace=True)"
   ]
  },
  {
   "cell_type": "markdown",
   "id": "98d9f768",
   "metadata": {
    "collapsed": false
   },
   "source": [
    "Wie wir nun sehen sind viele der Spalten für unser Modell nicht von Bedeutung, da es ausschliesslich *danceability* und *energy* als Features benötigt. Im Dataframe welchen wir für unser Unsupervised Machine Learning einsetzen können wir daher alle ausser diesen Zwei Spalten entfernen"
   ]
  },
  {
   "cell_type": "code",
   "execution_count": 97,
   "id": "a24d992a",
   "metadata": {
    "collapsed": false
   },
   "outputs": [],
   "source": [
    "#Hauptdatensatz\n",
    "audioFeaturesTotal = rawAudioFeaturesTotal.copy()\n",
    "audioFeaturesTotal.drop(\"key\", axis=1, inplace=True)\n",
    "audioFeaturesTotal.drop(\"duration_ms\", axis=1, inplace=True)\n",
    "audioFeaturesTotal.drop(\"time_signature\", axis=1, inplace=True)\n",
    "audioFeaturesTotal.drop(\"user\", axis=1, inplace=True)\n",
    "audioFeaturesTotal.drop(\"mode\", axis=1, inplace=True)\n",
    "audioFeaturesTotal.drop(\"loudness\", axis=1, inplace=True)\n",
    "audioFeaturesTotal.drop(\"speechiness\", axis=1, inplace=True)\n",
    "audioFeaturesTotal.drop(\"acousticness\", axis=1, inplace=True)\n",
    "audioFeaturesTotal.drop(\"instrumentalness\", axis=1, inplace=True)\n",
    "audioFeaturesTotal.drop(\"liveness\", axis=1, inplace=True)\n",
    "audioFeaturesTotal.drop(\"valence\", axis=1, inplace=True)\n",
    "audioFeaturesTotal.drop(\"tempo\", axis=1, inplace=True)"
   ]
  },
  {
   "cell_type": "markdown",
   "id": "d66f30ce",
   "metadata": {
    "collapsed": false
   },
   "source": [
    "Nun verschaffen wir uns einen überblick wie die Daten aussehen"
   ]
  },
  {
   "cell_type": "code",
   "execution_count": 98,
   "id": "87beeccb",
   "metadata": {
    "collapsed": false
   },
   "outputs": [
    {
     "data": {
      "text/plain": "       danceability       energy\ncount   1450.000000  1450.000000\nmean       0.526701     0.405721\nstd        0.242342     0.319077\nmin        0.060600     0.000962\n25%        0.309250     0.055800\n50%        0.545500     0.488000\n75%        0.752750     0.700000\nmax        0.962000     0.986000",
      "text/html": "<div>\n<style scoped>\n    .dataframe tbody tr th:only-of-type {\n        vertical-align: middle;\n    }\n\n    .dataframe tbody tr th {\n        vertical-align: top;\n    }\n\n    .dataframe thead th {\n        text-align: right;\n    }\n</style>\n<table border=\"1\" class=\"dataframe\">\n  <thead>\n    <tr style=\"text-align: right;\">\n      <th></th>\n      <th>danceability</th>\n      <th>energy</th>\n    </tr>\n  </thead>\n  <tbody>\n    <tr>\n      <th>count</th>\n      <td>1450.000000</td>\n      <td>1450.000000</td>\n    </tr>\n    <tr>\n      <th>mean</th>\n      <td>0.526701</td>\n      <td>0.405721</td>\n    </tr>\n    <tr>\n      <th>std</th>\n      <td>0.242342</td>\n      <td>0.319077</td>\n    </tr>\n    <tr>\n      <th>min</th>\n      <td>0.060600</td>\n      <td>0.000962</td>\n    </tr>\n    <tr>\n      <th>25%</th>\n      <td>0.309250</td>\n      <td>0.055800</td>\n    </tr>\n    <tr>\n      <th>50%</th>\n      <td>0.545500</td>\n      <td>0.488000</td>\n    </tr>\n    <tr>\n      <th>75%</th>\n      <td>0.752750</td>\n      <td>0.700000</td>\n    </tr>\n    <tr>\n      <th>max</th>\n      <td>0.962000</td>\n      <td>0.986000</td>\n    </tr>\n  </tbody>\n</table>\n</div>"
     },
     "execution_count": 98,
     "metadata": {},
     "output_type": "execute_result"
    }
   ],
   "source": [
    "audioFeaturesTotal.describe()"
   ]
  },
  {
   "cell_type": "code",
   "execution_count": 99,
   "id": "0c6f465b",
   "metadata": {
    "collapsed": false
   },
   "outputs": [
    {
     "data": {
      "text/plain": "   danceability   energy\n0        0.0614  0.05800\n1        0.2990  0.00626\n2        0.0877  0.07630\n3        0.1760  0.05340\n4        0.4280  0.00300",
      "text/html": "<div>\n<style scoped>\n    .dataframe tbody tr th:only-of-type {\n        vertical-align: middle;\n    }\n\n    .dataframe tbody tr th {\n        vertical-align: top;\n    }\n\n    .dataframe thead th {\n        text-align: right;\n    }\n</style>\n<table border=\"1\" class=\"dataframe\">\n  <thead>\n    <tr style=\"text-align: right;\">\n      <th></th>\n      <th>danceability</th>\n      <th>energy</th>\n    </tr>\n  </thead>\n  <tbody>\n    <tr>\n      <th>0</th>\n      <td>0.0614</td>\n      <td>0.05800</td>\n    </tr>\n    <tr>\n      <th>1</th>\n      <td>0.2990</td>\n      <td>0.00626</td>\n    </tr>\n    <tr>\n      <th>2</th>\n      <td>0.0877</td>\n      <td>0.07630</td>\n    </tr>\n    <tr>\n      <th>3</th>\n      <td>0.1760</td>\n      <td>0.05340</td>\n    </tr>\n    <tr>\n      <th>4</th>\n      <td>0.4280</td>\n      <td>0.00300</td>\n    </tr>\n  </tbody>\n</table>\n</div>"
     },
     "execution_count": 99,
     "metadata": {},
     "output_type": "execute_result"
    }
   ],
   "source": [
    "audioFeaturesTotal.head()"
   ]
  },
  {
   "cell_type": "code",
   "execution_count": 100,
   "id": "498c0546",
   "metadata": {
    "collapsed": false
   },
   "outputs": [
    {
     "name": "stdout",
     "output_type": "stream",
     "text": [
      "<class 'pandas.core.frame.DataFrame'>\n",
      "Int64Index: 1450 entries, 0 to 1449\n",
      "Data columns (total 2 columns):\n",
      " #   Column        Non-Null Count  Dtype  \n",
      "---  ------        --------------  -----  \n",
      " 0   danceability  1450 non-null   float64\n",
      " 1   energy        1450 non-null   float64\n",
      "dtypes: float64(2)\n",
      "memory usage: 34.0 KB\n"
     ]
    }
   ],
   "source": [
    "audioFeaturesTotal.info()"
   ]
  },
  {
   "cell_type": "markdown",
   "id": "f7af876c",
   "metadata": {
    "collapsed": false
   },
   "source": []
  },
  {
   "cell_type": "markdown",
   "id": "0550d3f4",
   "metadata": {
    "collapsed": false
   },
   "source": [
    "# Data Quality Assesment\n",
    "Im Data Quality Assesment schauen wir uns noch Nullwerte und die Min, Max Werte der Spalten an"
   ]
  },
  {
   "cell_type": "code",
   "execution_count": 101,
   "id": "05a3efcb",
   "metadata": {
    "collapsed": false
   },
   "outputs": [
    {
     "data": {
      "text/plain": "danceability    0\nenergy          0\ndtype: int64"
     },
     "execution_count": 101,
     "metadata": {},
     "output_type": "execute_result"
    }
   ],
   "source": [
    "audioFeaturesTotal.isnull().sum()"
   ]
  },
  {
   "cell_type": "markdown",
   "id": "a9028649",
   "metadata": {
    "collapsed": false
   },
   "source": [
    "Um die Min Max Werte der Spalten zu erhalten nutzen wir nochmals die describe Methode. Die Werte sehen realistisch aus"
   ]
  },
  {
   "cell_type": "code",
   "execution_count": 102,
   "id": "8d8fdfe1",
   "metadata": {
    "collapsed": false
   },
   "outputs": [
    {
     "data": {
      "text/plain": "       danceability       energy\ncount   1450.000000  1450.000000\nmean       0.526701     0.405721\nstd        0.242342     0.319077\nmin        0.060600     0.000962\n25%        0.309250     0.055800\n50%        0.545500     0.488000\n75%        0.752750     0.700000\nmax        0.962000     0.986000",
      "text/html": "<div>\n<style scoped>\n    .dataframe tbody tr th:only-of-type {\n        vertical-align: middle;\n    }\n\n    .dataframe tbody tr th {\n        vertical-align: top;\n    }\n\n    .dataframe thead th {\n        text-align: right;\n    }\n</style>\n<table border=\"1\" class=\"dataframe\">\n  <thead>\n    <tr style=\"text-align: right;\">\n      <th></th>\n      <th>danceability</th>\n      <th>energy</th>\n    </tr>\n  </thead>\n  <tbody>\n    <tr>\n      <th>count</th>\n      <td>1450.000000</td>\n      <td>1450.000000</td>\n    </tr>\n    <tr>\n      <th>mean</th>\n      <td>0.526701</td>\n      <td>0.405721</td>\n    </tr>\n    <tr>\n      <th>std</th>\n      <td>0.242342</td>\n      <td>0.319077</td>\n    </tr>\n    <tr>\n      <th>min</th>\n      <td>0.060600</td>\n      <td>0.000962</td>\n    </tr>\n    <tr>\n      <th>25%</th>\n      <td>0.309250</td>\n      <td>0.055800</td>\n    </tr>\n    <tr>\n      <th>50%</th>\n      <td>0.545500</td>\n      <td>0.488000</td>\n    </tr>\n    <tr>\n      <th>75%</th>\n      <td>0.752750</td>\n      <td>0.700000</td>\n    </tr>\n    <tr>\n      <th>max</th>\n      <td>0.962000</td>\n      <td>0.986000</td>\n    </tr>\n  </tbody>\n</table>\n</div>"
     },
     "execution_count": 102,
     "metadata": {},
     "output_type": "execute_result"
    }
   ],
   "source": [
    "audioFeaturesTotal.describe()"
   ]
  },
  {
   "cell_type": "markdown",
   "id": "c484439d",
   "metadata": {
    "collapsed": false
   },
   "source": [
    "# Data Preprocessing\n",
    "Um die Datenstandardisierung durchzuführen nutzen wir keinen Standard Scaler, da die Daten für Danceability und Energy im gleichen Wertebereich von 0-1 befinden"
   ]
  },
  {
   "cell_type": "code",
   "execution_count": 103,
   "id": "1f910536",
   "metadata": {},
   "outputs": [],
   "source": [
    "#Hauptdatensatz\n",
    "X = audioFeaturesTotal\n",
    "\n",
    "# get species for validation, this will be used to validate our models and compute a VMeasure Score\n",
    "y = rawAudioFeaturesTotal['user']\n",
    "users = {'Sangeeths': 0, 'Stiafen': 1}\n",
    "y = [users[item] for item in y]\n",
    "y = np.array(y)"
   ]
  },
  {
   "attachments": {},
   "cell_type": "markdown",
   "id": "80ba92fe",
   "metadata": {
    "collapsed": false
   },
   "source": [
    "# Datenvisualisierungen\n",
    "Da wir mit mehren Modellen arbeiten wollen, haben wir einerseits einen Countplot und einen Scatterplot eingesetzt"
   ]
  },
  {
   "cell_type": "markdown",
   "id": "fce0be1d",
   "metadata": {
    "collapsed": false
   },
   "source": [
    "Im untenstehenden Countplot wollten wir sicherstellen, das von beiden Personen etwa die gleiche Menge an Daten verfügbar ist."
   ]
  },
  {
   "cell_type": "code",
   "execution_count": 104,
   "id": "a5badacf",
   "metadata": {
    "collapsed": false
   },
   "outputs": [
    {
     "data": {
      "text/plain": "<AxesSubplot:xlabel='user', ylabel='count'>"
     },
     "execution_count": 104,
     "metadata": {},
     "output_type": "execute_result"
    },
    {
     "data": {
      "text/plain": "<Figure size 640x480 with 1 Axes>",
      "image/png": "[encoded data removed]"
     },
     "metadata": {},
     "output_type": "display_data"
    }
   ],
   "source": [
    "sns.countplot(x = rawAudioFeaturesTotal[\"user\"])"
   ]
  },
  {
   "cell_type": "markdown",
   "id": "a575ff46",
   "metadata": {
    "collapsed": false
   },
   "source": [
    "Die Untenstehende Grafik zeigt für die von der Aufgabenstellung gegebenen Features eine klare Clusterbildung für die beiden Personen"
   ]
  },
  {
   "cell_type": "code",
   "execution_count": 105,
   "id": "f571c4f9",
   "metadata": {},
   "outputs": [
    {
     "data": {
      "text/plain": "<AxesSubplot:xlabel='energy', ylabel='danceability'>"
     },
     "execution_count": 105,
     "metadata": {},
     "output_type": "execute_result"
    },
    {
     "data": {
      "text/plain": "<Figure size 640x480 with 1 Axes>",
      "image/png": "[encoded data removed]"
     },
     "metadata": {},
     "output_type": "display_data"
    }
   ],
   "source": [
    "sns.scatterplot(data=rawAudioFeaturesTotal, x=\"energy\", y=\"danceability\", hue=\"user\")"
   ]
  },
  {
   "attachments": {},
   "cell_type": "markdown",
   "id": "23213629",
   "metadata": {},
   "source": [
    "# Kmeans"
   ]
  },
  {
   "attachments": {},
   "cell_type": "markdown",
   "id": "024d6d05",
   "metadata": {},
   "source": [
    "## Kmeans preparation"
   ]
  },
  {
   "cell_type": "code",
   "execution_count": 106,
   "id": "0916f7dd",
   "metadata": {},
   "outputs": [
    {
     "name": "stderr",
     "output_type": "stream",
     "text": [
      "C:\\Users\\Startklar\\AppData\\Local\\Temp\\ipykernel_20572\\1703894294.py:3: TqdmDeprecationWarning: This function will be removed in tqdm==5.0.0\n",
      "Please use `tqdm.notebook.tqdm` instead of `tqdm.tqdm_notebook`\n",
      "  for k in tqdm_notebook(K):\n"
     ]
    },
    {
     "data": {
      "text/plain": "  0%|          | 0/9 [00:00<?, ?it/s]",
      "application/vnd.jupyter.widget-view+json": {
       "version_major": 2,
       "version_minor": 0,
       "model_id": "045642d499a4460eaf0ae520ad6aa799"
      }
     },
     "metadata": {},
     "output_type": "display_data"
    },
    {
     "name": "stderr",
     "output_type": "stream",
     "text": [
      "C:\\Users\\Startklar\\anaconda3\\lib\\site-packages\\sklearn\\cluster\\_kmeans.py:1036: UserWarning: KMeans is known to have a memory leak on Windows with MKL, when there are less chunks than available threads. You can avoid it by setting the environment variable OMP_NUM_THREADS=6.\n",
      "  warnings.warn(\n"
     ]
    }
   ],
   "source": [
    "inertias = []\n",
    "K = range(1,10)\n",
    "for k in tqdm_notebook(K):\n",
    "    kmeanModel = KMeans(n_clusters=k)\n",
    "    kmeanModel.fit(X)\n",
    "    inertias.append(kmeanModel.inertia_)"
   ]
  },
  {
   "attachments": {},
   "cell_type": "markdown",
   "id": "8d5b6474",
   "metadata": {},
   "source": [
    "## Elbow method"
   ]
  },
  {
   "cell_type": "code",
   "execution_count": 107,
   "id": "cca6db59",
   "metadata": {},
   "outputs": [
    {
     "ename": "TypeError",
     "evalue": "'str' object is not callable",
     "output_type": "error",
     "traceback": [
      "\u001B[1;31m---------------------------------------------------------------------------\u001B[0m",
      "\u001B[1;31mTypeError\u001B[0m                                 Traceback (most recent call last)",
      "\u001B[1;32m~\\AppData\\Local\\Temp\\ipykernel_20572\\2641102702.py\u001B[0m in \u001B[0;36m<module>\u001B[1;34m\u001B[0m\n\u001B[0;32m      2\u001B[0m \u001B[0mplt\u001B[0m\u001B[1;33m.\u001B[0m\u001B[0mxlabel\u001B[0m\u001B[1;33m(\u001B[0m\u001B[1;34m'k'\u001B[0m\u001B[1;33m)\u001B[0m\u001B[1;33m\u001B[0m\u001B[1;33m\u001B[0m\u001B[0m\n\u001B[0;32m      3\u001B[0m \u001B[0mplt\u001B[0m\u001B[1;33m.\u001B[0m\u001B[0mylabel\u001B[0m\u001B[1;33m(\u001B[0m\u001B[1;34m'Inertia'\u001B[0m\u001B[1;33m)\u001B[0m\u001B[1;33m\u001B[0m\u001B[1;33m\u001B[0m\u001B[0m\n\u001B[1;32m----> 4\u001B[1;33m \u001B[0mplt\u001B[0m\u001B[1;33m.\u001B[0m\u001B[0mtitle\u001B[0m\u001B[1;33m(\u001B[0m\u001B[1;34m'The Elbow Method showing the optimal k'\u001B[0m\u001B[1;33m)\u001B[0m\u001B[1;33m\u001B[0m\u001B[1;33m\u001B[0m\u001B[0m\n\u001B[0m\u001B[0;32m      5\u001B[0m \u001B[1;33m\u001B[0m\u001B[0m\n\u001B[0;32m      6\u001B[0m \u001B[0mplt\u001B[0m\u001B[1;33m.\u001B[0m\u001B[0mplot\u001B[0m\u001B[1;33m(\u001B[0m\u001B[0mK\u001B[0m\u001B[1;33m,\u001B[0m \u001B[0minertias\u001B[0m\u001B[1;33m,\u001B[0m \u001B[1;34m'bx-'\u001B[0m\u001B[1;33m)\u001B[0m\u001B[1;33m\u001B[0m\u001B[1;33m\u001B[0m\u001B[0m\n",
      "\u001B[1;31mTypeError\u001B[0m: 'str' object is not callable"
     ]
    },
    {
     "data": {
      "text/plain": "<Figure size 640x480 with 1 Axes>",
      "image/png": "[encoded data removed]"
     },
     "metadata": {},
     "output_type": "display_data"
    }
   ],
   "source": [
    "# Plot the elbow\n",
    "plt.xlabel('k')\n",
    "plt.ylabel('Inertia')\n",
    "plt.title('The Elbow Method showing the optimal k')\n",
    "\n",
    "plt.plot(K, inertias, 'bx-')"
   ]
  },
  {
   "attachments": {},
   "cell_type": "markdown",
   "id": "9b50ef26",
   "metadata": {},
   "source": [
    "## Silhouette score method"
   ]
  },
  {
   "cell_type": "code",
   "execution_count": null,
   "id": "494bfbd7",
   "metadata": {},
   "outputs": [],
   "source": [
    "k_values = range(2, 10)\n",
    "scores = []\n",
    "\n",
    "for k in k_values:\n",
    "\n",
    "  model = KMeans(n_clusters=k)\n",
    "\n",
    "  model.fit(X)\n",
    "  # silhouette score für das Modell berechnen\n",
    "  score = silhouette_score(X, model.labels_)\n",
    "  scores.append(score)\n",
    "\n",
    "# Plot der silhouette scores gegenüber der Anzahl von Clustern erstellen\n",
    "plt.plot(k_values, scores, 'bx-')\n",
    "plt.xlabel('Anzahl von Clustern')\n",
    "plt.ylabel('silhouette score')\n",
    "plt.title('Verfahren zur Bestimmung der optimalen Anzahl von Clustern')\n",
    "plt.show()"
   ]
  },
  {
   "attachments": {},
   "cell_type": "markdown",
   "id": "4b277fc6",
   "metadata": {},
   "source": [
    "## Silhouette score method with plot"
   ]
  },
  {
   "cell_type": "code",
   "execution_count": null,
   "id": "f5717d13",
   "metadata": {},
   "outputs": [],
   "source": [
    "# Anzahl der Cluster festlegen mit shilouette plot_silhouette\n",
    "def plot_silhouette(X, n_clusters):\n",
    "    kmeans = KMeans(n_clusters=n_clusters, random_state=0)\n",
    "    kmeans.fit(X)\n",
    "    labels = kmeans.labels_\n",
    "    silhouette_vals = silhouette_samples(X, labels)\n",
    "    y_ax_lower, y_ax_upper = 0, 0\n",
    "    yticks = []\n",
    "    for i, c in enumerate(np.unique(labels)):\n",
    "        c_silhouette_vals = silhouette_vals[labels == c]\n",
    "        c_silhouette_vals.sort()\n",
    "        y_ax_upper += len(c_silhouette_vals)\n",
    "        color = cm.jet(i / n_clusters)\n",
    "        plt.barh(range(y_ax_lower, y_ax_upper), c_silhouette_vals, height=1.0, edgecolor='none', color=color)\n",
    "        yticks.append((y_ax_lower + y_ax_upper) / 2)\n",
    "        y_ax_lower += len(c_silhouette_vals)\n",
    "    silhouette_avg = np.mean(silhouette_vals)\n",
    "    plt.axvline(silhouette_avg, color=\"red\", linestyle=\"--\")\n",
    "    plt.yticks(yticks, np.unique(labels) + 1)\n",
    "    plt.ylabel('Cluster')\n",
    "    plt.xlabel('Silhouette coefficient')\n",
    "    plt.show()\n",
    "    \n",
    "for n in range(2,10):\n",
    "    plot_silhouette(X, n)\n",
    "    clusterer = KMeans(n_clusters=n, random_state=10)\n",
    "    cluster_labels = clusterer.fit_predict(X)\n",
    "\n",
    "    silhouette_avg = silhouette_score(X, cluster_labels)\n",
    "    print(\"For n_clusters =\", n,\n",
    "    \"The average silhouette_score is :\", silhouette_avg)\n",
    "    "
   ]
  },
  {
   "attachments": {},
   "cell_type": "markdown",
   "id": "16d177d1",
   "metadata": {},
   "source": [
    "## Kmeans with 2 clusters fit to the data"
   ]
  },
  {
   "cell_type": "code",
   "execution_count": null,
   "id": "297dced6",
   "metadata": {},
   "outputs": [],
   "source": [
    "# fit model with method\n",
    "kmeans = KMeans(n_clusters=2)\n",
    "kmeans.fit(X)"
   ]
  },
  {
   "attachments": {},
   "cell_type": "markdown",
   "id": "f348f41f",
   "metadata": {},
   "source": [
    "## Kmeans prediction"
   ]
  },
  {
   "cell_type": "code",
   "execution_count": null,
   "id": "0299df44",
   "metadata": {},
   "outputs": [],
   "source": [
    "# Using the predict method of KMeans to predict 2 clusters using the sample data\n",
    "from sklearn import (manifold, datasets)\n",
    "features = [\"energy\", \"danceability\"]\n",
    "\n",
    "predicted = kmeans.predict(X)\n",
    "df_X_scaled = pd.DataFrame(X, columns=features)\n",
    "df_X_scaled.columns = [\"Energy\", \"Danceability\"]\n",
    "\n",
    "# scatter plot with predictions\n",
    "#Hue according to predicted Cluster (0 being Sangeeth, 1 being Stiafen)\n",
    "sns.scatterplot(df_X_scaled[\"Energy\"], df_X_scaled[\"Danceability\"], hue=predicted , s=50, cmap='viridis', alpha=0.7)\n",
    "plt.xlabel(\"Energy\")\n",
    "plt.ylabel(\"Danceability\")\n",
    "\n",
    "\n",
    "centers = kmeans.cluster_centers_\n",
    "# plot centers\n",
    "sns.scatterplot(centers[:, 0], centers[:, 1], color=\"black\").set(title=\"Kmeans predictions für 0(Sangeeth) und 1(Stiafen) mit ClusterCentres\")\n",
    "#Compute V Measure\n",
    "kmeans_Vmeasure = v_measure_score(predicted, y)"
   ]
  },
  {
   "cell_type": "code",
   "execution_count": null,
   "id": "d3a1cbfc",
   "metadata": {},
   "outputs": [],
   "source": [
    "sns.scatterplot(x='energy', y='danceability', hue=rawAudioFeaturesTotal[\"user\"], data=rawAudioFeaturesTotal)"
   ]
  },
  {
   "cell_type": "code",
   "execution_count": null,
   "id": "687dc5f3",
   "metadata": {},
   "outputs": [],
   "source": [
    "#Check the cross tabulation\n",
    "matrix = pd.DataFrame({'labels': predicted, 'user': rawAudioFeaturesTotal[\"user\"]})\n",
    "ct = pd.crosstab(matrix['labels'], matrix['user'])\n",
    "ct"
   ]
  },
  {
   "cell_type": "code",
   "execution_count": null,
   "id": "99f55aed",
   "metadata": {},
   "outputs": [],
   "source": [
    "metrics.silhouette_score(X, predicted, metric='euclidean')"
   ]
  },
  {
   "cell_type": "markdown",
   "id": "bcf9b6fe",
   "metadata": {
    "collapsed": false
   },
   "source": []
  },
  {
   "attachments": {},
   "cell_type": "markdown",
   "id": "9bf3063a",
   "metadata": {},
   "source": [
    "# DBSCAN"
   ]
  },
  {
   "attachments": {},
   "cell_type": "markdown",
   "id": "8f0e8848",
   "metadata": {},
   "source": [
    "## DBSCAN preparation"
   ]
  },
  {
   "cell_type": "code",
   "execution_count": null,
   "id": "462f3897",
   "metadata": {},
   "outputs": [],
   "source": [
    "# drop Species (target) from train data\n",
    "# just take the columns we want energy,daceability, user\n",
    "data = rawAudioFeaturesTotal[['energy', 'danceability', 'user']]\n"
   ]
  },
  {
   "attachments": {},
   "cell_type": "markdown",
   "id": "e081c8f8",
   "metadata": {},
   "source": [
    "## DBSCAN fit to the data"
   ]
  },
  {
   "cell_type": "code",
   "execution_count": null,
   "id": "56f92e06",
   "metadata": {},
   "outputs": [],
   "source": [
    "dbscan = DBSCAN(eps = 0.15, min_samples=38)\n",
    "dbclusters = dbscan.fit_predict(X)\n",
    "dbscan_Vmeasure = v_measure_score(dbclusters, y)\n"
   ]
  },
  {
   "attachments": {},
   "cell_type": "markdown",
   "id": "8c924c1f",
   "metadata": {},
   "source": [
    "## DBSCAN prediction"
   ]
  },
  {
   "cell_type": "code",
   "execution_count": null,
   "id": "42da5d5f",
   "metadata": {},
   "outputs": [],
   "source": [
    "# create DataFrames from data\n",
    "df_dbclusters = pd.DataFrame(dbclusters)\n",
    "df_X = pd.DataFrame(X)\n",
    "\n",
    "# add column names\n",
    "df_dbclusters.columns = ['user']\n",
    "df_X.columns = features\n",
    "\n",
    "# concat both dataframes\n",
    "df_predicted = pd.DataFrame(pd.concat([df_X, df_dbclusters], axis=\"columns\")).reindex()\n",
    "# scatter plot, user -1 is outliers, 0 is Stiafen and 1 is Sangeeth\n",
    "sns.scatterplot(x='energy', y='danceability', hue = 'user', data = df_predicted, legend = True).set(title=\"DBSCAN predictions für -1(Outliers), 0(Stiafen) und 1(Sangeeth)\")\n"
   ]
  },
  {
   "cell_type": "markdown",
   "id": "11196656",
   "metadata": {
    "collapsed": false
   },
   "source": [
    "Man sieht im Untenstehenden Countplot, das wenige Punkte als Outliers (-1) markiert wurden"
   ]
  },
  {
   "cell_type": "code",
   "execution_count": null,
   "id": "562b57d0",
   "metadata": {
    "collapsed": false
   },
   "outputs": [],
   "source": [
    "sns.countplot(df_predicted['user'])"
   ]
  },
  {
   "attachments": {},
   "cell_type": "markdown",
   "id": "268d965e",
   "metadata": {},
   "source": [
    "## DBSCAN Hyperparameter tuning"
   ]
  },
  {
   "cell_type": "code",
   "execution_count": null,
   "id": "737318c6",
   "metadata": {},
   "outputs": [],
   "source": [
    "#hyperparameter tuning\n",
    "from sklearn.cluster import DBSCAN\n",
    "from sklearn.metrics import silhouette_score\n",
    "range_min = [x for x in range(2, 51, 1)]\n",
    "range_eps = [x / 100.0 for x in range(1, 51, 1)] + [y / 10.0 for y in range(1, 51, 1)] + [round(z, 2) for z in np.arange(1.10, 1.31, 0.01)]\n",
    "dic = {}\n",
    "for m in range_min:\n",
    "\n",
    "    for e in range_eps:\n",
    "\n",
    "        model_1 = DBSCAN(eps = e, min_samples = m).fit(df_X)\n",
    "\n",
    "        core_samples_mask = np.zeros_like(model_1.labels_, dtype = bool)\n",
    "\n",
    "        core_samples_mask[model_1.core_sample_indices_] = True\n",
    "\n",
    "        labels = model_1.labels_\n",
    "\n",
    "        if len( set(labels) ) > 1:\n",
    "\n",
    "            silhouette_Avg = silhouette_score(df_X, labels)\n",
    "\n",
    "            if silhouette_Avg > 0:\n",
    "\n",
    "                dic[str(m) + \" - \" + str(e)] = silhouette_Avg\n",
    "\n",
    "                print(\"min-sample value is: \" + str(m) + \" eps value is: \" + str(e) , \"The avearge silhouette_score is :\",silhouette_Avg)\n",
    " \n",
    "max_key = max(dic, key = dic.get)\n",
    "print(\"parameter values are: \", max_key)\n",
    "print(\"maximum silhouette score value is: \", dic[max_key])"
   ]
  },
  {
   "attachments": {},
   "cell_type": "markdown",
   "id": "22eb5aa2",
   "metadata": {},
   "source": [
    "# Agglomerative Hierarchical Clustering"
   ]
  },
  {
   "cell_type": "code",
   "execution_count": null,
   "id": "e343108d",
   "metadata": {},
   "outputs": [],
   "source": [
    "#implement agglomerative hierarchical clustering\n",
    "agg = AgglomerativeClustering(n_clusters=2, affinity='euclidean', linkage='ward')\n",
    "aggclusters = agg.fit_predict(X)\n",
    "agg_Vmeasure = v_measure_score(aggclusters, y)\n"
   ]
  },
  {
   "attachments": {},
   "cell_type": "markdown",
   "id": "267a4212",
   "metadata": {},
   "source": [
    "## Predictions of the model"
   ]
  },
  {
   "cell_type": "code",
   "execution_count": null,
   "id": "78fa8929",
   "metadata": {},
   "outputs": [],
   "source": [
    "# create DataFrames from data\n",
    "df_aggclusters = pd.DataFrame(aggclusters)\n",
    "df_X = pd.DataFrame(X)\n",
    "\n",
    "# add column names\n",
    "df_aggclusters.columns = ['user']\n",
    "df_X.columns = features\n",
    "\n",
    "# concat both dataframes\n",
    "df_predicted = pd.DataFrame(pd.concat([df_X, df_aggclusters], axis=\"columns\")).reindex()\n",
    "# scatter plot\n",
    "sns.scatterplot(x='energy', y='danceability', hue = 'user', data = df_predicted, legend = True).set(title=\"Aggl. Hierar. Clustering predictions für 0(Sangeeth) und 1(Stiafen)\")\n"
   ]
  },
  {
   "attachments": {},
   "cell_type": "markdown",
   "id": "3edc2782",
   "metadata": {},
   "source": [
    "## Countplot Resultat for Agglomerative Hierarchical Clustering"
   ]
  },
  {
   "cell_type": "code",
   "execution_count": null,
   "id": "1229fea9",
   "metadata": {},
   "outputs": [],
   "source": [
    "sns.countplot(df_predicted['user'])"
   ]
  },
  {
   "attachments": {},
   "cell_type": "markdown",
   "id": "2b3eb689",
   "metadata": {},
   "source": [
    "## Hyperparameter tuning for Agglomerative Hierarchical Clustering"
   ]
  },
  {
   "cell_type": "code",
   "execution_count": null,
   "id": "68212bb3",
   "metadata": {},
   "outputs": [],
   "source": [
    "#hyperparameter tuning with agglomerative clustering correct parameters\n",
    "range_n_clusters = [x for x in range(2, 51, 1)]\n",
    "range_linkage = ['ward', 'complete', 'average', 'single']\n",
    "range_affinity = ['euclidean']\n",
    "dic = {}\n",
    "for n in range_n_clusters:\n",
    "    for l in range_linkage:\n",
    "        for a in range_affinity:\n",
    "            clusterer = AgglomerativeClustering(n_clusters=n, linkage=l, affinity=a)\n",
    "            cluster_labels = clusterer.fit_predict(X)\n",
    "            silhouette_avg = silhouette_score(X, cluster_labels)\n",
    "            if silhouette_avg > 0:\n",
    "                dic[str(n) + \" - \" + str(l) + \" - \" + str(a)] = silhouette_avg\n",
    "                print(\"For n_clusters =\", n, \"linkage =\", l, \"affinity =\", a, \"The average silhouette_score is :\", silhouette_avg)\n",
    "max_key = max(dic, key = dic.get)\n",
    "print(\"parameter value is: \", max_key)\n",
    "print(\"maximum silhouette score value is: \", dic[max_key])"
   ]
  },
  {
   "cell_type": "markdown",
   "source": [
    "# Vergleich der Clustering Modelle\n",
    "Nun da wir alle Modelle umgesetzt haben, wollen wir vergleichen, welches davon den Besten V-Measure Score hat.\n"
   ],
   "metadata": {
    "collapsed": false
   }
  },
  {
   "cell_type": "code",
   "execution_count": null,
   "outputs": [],
   "source": [
    "models = [\"kmeans\", \"DBSCAN\", \"Agg. Hierarchical Clustering\"]\n",
    "v_measures = [kmeans_Vmeasure, dbscan_Vmeasure, agg_Vmeasure]\n",
    "fig = plt.figure()\n",
    "ax = fig.add_axes([0,0,1,1])\n",
    "ax.bar(models, v_measures)\n",
    "plt.show()"
   ],
   "metadata": {
    "collapsed": false
   }
  },
  {
   "cell_type": "markdown",
   "source": [
    "Wie sich leicht an der Grafik erkennen lässt liegen die Werte sehr nahe beieinander. Betrachten wir den exakten Wert merken wir allerding, das Agg. Hierachical Clustering\n",
    "den besten V-Measure score erhalten hat. Die Abweichung im vergleich zu den anderen Modellen ist jedoch sehr geringfügig."
   ],
   "metadata": {
    "collapsed": false
   }
  },
  {
   "cell_type": "code",
   "execution_count": null,
   "outputs": [],
   "source": [
    "print(\"kmeans V-Measure score: \", kmeans_Vmeasure)\n",
    "print(\"DBSCAN V-Measure score: \", dbscan_Vmeasure)\n",
    "print(\"Agg. Hierarchical Clustering: \", agg_Vmeasure)"
   ],
   "metadata": {
    "collapsed": false
   }
  }
 ],
 "metadata": {
  "kernelspec": {
   "display_name": "base",
   "language": "python",
   "name": "python3"
  },
  "language_info": {
   "codemirror_mode": {
    "name": "ipython",
    "version": 3
   },
   "file_extension": ".py",
   "mimetype": "text/x-python",
   "name": "python",
   "nbconvert_exporter": "python",
   "pygments_lexer": "ipython3",
   "version": "3.9.12"
  },
  "vscode": {
   "interpreter": {
    "hash": "ae9a7d9487522a32e05e93c24ebd7bce3d2603c885a6c5ff62d83af700e228db"
   }
  }
 },
 "nbformat": 4,
 "nbformat_minor": 5
}
