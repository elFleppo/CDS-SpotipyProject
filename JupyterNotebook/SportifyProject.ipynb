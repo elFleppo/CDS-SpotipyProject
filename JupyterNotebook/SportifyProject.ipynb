{
 "cells": [
  {
   "cell_type": "code",
   "execution_count": 15,
   "metadata": {},
   "outputs": [],
   "source": [
    "# Gute Fragestellung für datascience Projekt (Sportify)\n",
    "# Gibt es einen Zusammenhang zwischen eigenen Musikgeschmack und der Geschmack der anderen?\n",
    "\n",
    "# Importieren der benötigten Bibliotheken\n",
    "import sys\n",
    "assert sys.version_info >= (3, 5)\n",
    "\n",
    "import sklearn\n",
    "assert sklearn.__version__ >= \"0.20\"\n",
    "\n",
    "import math\n",
    "import matplotlib as mpl\n",
    "import matplotlib.pyplot as plt\n",
    "import numpy as np\n",
    "import spotipy\n",
    "import pandas as pd\n",
    "from spotipy.oauth2 import SpotifyClientCredentials\n"
   ]
  },
  {
   "cell_type": "code",
   "execution_count": 16,
   "id": "9c240b82",
   "metadata": {},
   "outputs": [],
   "source": [
    "CLIENT_ID = \"082b3dd7a97642d49b60a647673caa75\"\n",
    "CLIENT_SECRET = \"276e4715f8a14a34a7622c0105a8588c\"\n",
    "USERSANGEETHS = \"qme120m1x3bg2wrtw3haiiyrb\"\n",
    "USERSTIAFEN = \"stiafen\"\n",
    "\n",
    "client_credentials_manager = SpotifyClientCredentials(client_id=CLIENT_ID, client_secret=CLIENT_SECRET)\n",
    "sp = spotipy.Spotify(client_credentials_manager=client_credentials_manager) #spotify object to access API"
   ]
  },
  {
   "cell_type": "code",
   "execution_count": 17,
   "id": "701fafd8",
   "metadata": {},
   "outputs": [],
   "source": [
    "# get all playlists of a user\n",
    "def get_playlists(user):\n",
    "    playlists = sp.user_playlists(user)\n",
    "    playlist_ids = []\n",
    "    while playlists:\n",
    "        for i, playlist in enumerate(playlists['items']):\n",
    "            playlist_ids.append(playlist['id'])\n",
    "        if playlists['next']:\n",
    "            playlists = sp.next(playlists)\n",
    "        else:\n",
    "            playlists = None\n",
    "    return playlist_ids"
   ]
  },
  {
   "cell_type": "code",
   "execution_count": 18,
   "id": "a36e108f",
   "metadata": {},
   "outputs": [
    {
     "name": "stdout",
     "output_type": "stream",
     "text": [
      "('Fav Songs Sangeeths', '2E7GAf1h3F19ezc18w1NpZ')\n",
      "('Tamil Vibes', '64Lq6W07GIOs087K88iOzT')\n",
      "('Arabic  Vibes', '1Rr83zHLDULxQDbC9taydm')\n",
      "('Albanien Vibes', '6jyy1HUool6rj0xWLVsAPC')\n",
      "('UK DRILL ', '5ycwKESGY1Z71ftYWmTVJs')\n",
      "('Baba Vibes', '67a5HCEjwm4aXvjPVoxoAX')\n",
      "('test', '3NZuFW3mntcObL3kFtYiPv')\n",
      "('Favorite Songs', '4DeCJm3aeeb0TTdthf8MGY')\n",
      "('Caterpillar (feat. Eminem & King Green)', '1JKSl9B6hJNCGFs9FdOq8I')\n",
      "('Meine Playlist Nr.\\xa034', '3uBDJVShkGJKFxPNnjC7IL')\n",
      "('Dein Mixtape\\xa06 - ZUSAMMENGESTELLT FÜR STIAFEN:21.06.19', '48I13UCIzloZpyRE23zwIa')\n",
      "('Mixtape 3', '2jnqcj5CxaBLHjzVafdmce')\n",
      "('Oldschool', '4RjDNPzba04zlAan0a4bTE')\n"
     ]
    }
   ],
   "source": [
    "playlistsSangeeths = get_playlists(USERSANGEETHS)\n",
    "playlistsTiafen = get_playlists(USERSTIAFEN)\n",
    "\n",
    "# get the name of the playlists\n",
    "def get_playlist_name(user, playlist_id):\n",
    "    playlist = sp.user_playlist(user, playlist_id)\n",
    "    return playlist['name'], playlist['id']\n",
    "\n",
    "for playlist in playlistsSangeeths:\n",
    "    print(get_playlist_name(USERSANGEETHS, playlist))\n",
    "\n",
    "for playlist in playlistsTiafen:\n",
    "    print(get_playlist_name(USERSTIAFEN, playlist))"
   ]
  },
  {
   "cell_type": "code",
   "execution_count": 28,
   "id": "b4a668b6",
   "metadata": {},
   "outputs": [
    {
     "name": "stdout",
     "output_type": "stream",
     "text": [
      "       danceability       energy          key     loudness         mode  \\\n",
      "count   2995.000000  2995.000000  2995.000000  2995.000000  2995.000000   \n",
      "mean       0.531464     0.512370     5.288481   -11.841054     0.560267   \n",
      "std        0.212018     0.302075     3.541563     8.404396     0.496437   \n",
      "min        0.000000     0.000471     0.000000   -42.236000     0.000000   \n",
      "25%        0.363000     0.214500     2.000000   -17.305500     0.000000   \n",
      "50%        0.558000     0.586000     5.000000    -8.196000     1.000000   \n",
      "75%        0.697000     0.769000     8.000000    -5.652500     1.000000   \n",
      "max        0.964000     0.995000    11.000000    -0.158000     1.000000   \n",
      "\n",
      "       speechiness  acousticness  instrumentalness     liveness      valence  \\\n",
      "count  2995.000000   2995.000000       2995.000000  2995.000000  2995.000000   \n",
      "mean      0.134331      0.428505          0.317012     0.180459     0.407670   \n",
      "std       0.147992      0.393456          0.413698     0.153712     0.263269   \n",
      "min       0.000000      0.000001          0.000000     0.000000     0.000000   \n",
      "25%       0.039200      0.058800          0.000000     0.092700     0.165500   \n",
      "50%       0.054700      0.269000          0.000631     0.119000     0.396000   \n",
      "75%       0.208000      0.918500          0.865000     0.209000     0.617000   \n",
      "max       0.953000      0.996000          0.999000     0.979000     0.995000   \n",
      "\n",
      "             tempo   duration_ms  time_signature   Unnamed: 0  \n",
      "count  2995.000000  2.995000e+03     2995.000000  2893.000000  \n",
      "mean    111.637516  2.556045e+05        3.820033  1446.000000  \n",
      "std      32.277399  1.618675e+05        0.597254   835.281489  \n",
      "min       0.000000  5.520000e+03        0.000000     0.000000  \n",
      "25%      88.508000  1.784660e+05        4.000000   723.000000  \n",
      "50%     104.759000  2.255470e+05        4.000000  1446.000000  \n",
      "75%     132.138500  2.871935e+05        4.000000  2169.000000  \n",
      "max     205.911000  2.022200e+06        5.000000  2892.000000  \n"
     ]
    },
    {
     "name": "stderr",
     "output_type": "stream",
     "text": [
      "C:\\Users\\Startklar\\AppData\\Local\\Temp\\ipykernel_7064\\3810543043.py:51: FutureWarning: The frame.append method is deprecated and will be removed from pandas in a future version. Use pandas.concat instead.\n",
      "  completeAudioDataFrame = audioFeaturesSangeeths.append(audioFeaturesStiafen)\n"
     ]
    }
   ],
   "source": [
    "favoritplaylistSangeeths = \"64Lq6W07GIOs087K88iOzT\"\n",
    "favoritplaylistStiafen = \"4DeCJm3aeeb0TTdthf8MGY\"\n",
    "\n",
    "# save all tracks in csv file\n",
    "def get_playlist_tracks(user, playlist_id):\n",
    "    results = sp.user_playlist_tracks(user, playlist_id)\n",
    "    tracks = results['items']\n",
    "    while results['next']:\n",
    "        results = sp.next(results)\n",
    "        tracks.extend(results['items'])\n",
    "    return tracks\n",
    "\n",
    "tracksSangeeths = get_playlist_tracks(USERSANGEETHS, favoritplaylistSangeeths)\n",
    "tracksSangeeths = pd.DataFrame(tracksSangeeths)\n",
    "tracksSangeeths\n",
    "\n",
    "# just put colomn track in a new dataframe\n",
    "tracksSangeeths = tracksSangeeths['track']\n",
    "tracksSangeeths\n",
    "\n",
    "# get all the info in colomn track\n",
    "tracksSangeeths = tracksSangeeths.apply(pd.Series)\n",
    "tracksSangeeths\n",
    "\n",
    "tracksStiafen = get_playlist_tracks(USERSTIAFEN, favoritplaylistStiafen)\n",
    "tracksStiafen = pd.DataFrame(tracksStiafen)\n",
    "\n",
    "# just put colomn track in a new dataframe\n",
    "tracksStiafen = tracksStiafen['track']\n",
    "\n",
    "# get all the info in colomn track\n",
    "tracksStiafen = tracksStiafen.apply(pd.Series)\n",
    "\n",
    "#Get Audio features for all tracks in favorite Playlist\n",
    "#features = []\n",
    "#for uri in tracksStiafen['uri']:\n",
    "#   features = features+sp.audio_features(uri)\n",
    "#audioFeaturesStiafen = pd.DataFrame(features)\n",
    "#audioFeaturesStiafen['user'] = \"Stiafen\"\n",
    "\n",
    "#Daten lokal im csv zwischenspeichern da jeweiliges Abfragen mehrere Minuten braucht\n",
    "#audioFeaturesStiafen.to_csv('audiofeatures_stiafen')\n",
    "audioFeaturesStiafenRaw = pd.read_csv('audiofeatures_stiafen')\n",
    "audioFeaturesStiafen = pd.DataFrame(audioFeaturesStiafenRaw)\n",
    "features = []\n",
    "for uri in tracksSangeeths['uri']:\n",
    "    features = features+sp.audio_features(uri)\n",
    "audioFeaturesSangeeths = pd.DataFrame(features)\n",
    "audioFeaturesSangeeths['user'] = \"Sangeeths\"\n",
    "audioFeaturesSangeeths\n",
    "completeAudioDataFrame = audioFeaturesSangeeths.append(audioFeaturesStiafen)\n",
    "print(completeAudioDataFrame.describe())"
   ]
  },
  {
   "cell_type": "markdown",
   "id": "6902a361",
   "metadata": {},
   "source": []
  },
  {
   "cell_type": "code",
   "execution_count": 20,
   "id": "1f910536",
   "metadata": {},
   "outputs": [
    {
     "data": {
      "text/plain": "                                                 album  \\\n0    {'album_type': 'single', 'artists': [{'externa...   \n1    {'album_type': 'single', 'artists': [{'externa...   \n2    {'album_type': 'single', 'artists': [{'externa...   \n3    {'album_type': 'single', 'artists': [{'externa...   \n4    {'album_type': 'single', 'artists': [{'externa...   \n..                                                 ...   \n97   {'album_type': 'album', 'artists': [{'external...   \n98   {'album_type': 'album', 'artists': [{'external...   \n99   {'album_type': 'single', 'artists': [{'externa...   \n100  {'album_type': 'single', 'artists': [{'externa...   \n101  {'album_type': 'single', 'artists': [{'externa...   \n\n                                               artists  \\\n0    [{'external_urls': {'spotify': 'https://open.s...   \n1    [{'external_urls': {'spotify': 'https://open.s...   \n2    [{'external_urls': {'spotify': 'https://open.s...   \n3    [{'external_urls': {'spotify': 'https://open.s...   \n4    [{'external_urls': {'spotify': 'https://open.s...   \n..                                                 ...   \n97   [{'external_urls': {'spotify': 'https://open.s...   \n98   [{'external_urls': {'spotify': 'https://open.s...   \n99   [{'external_urls': {'spotify': 'https://open.s...   \n100  [{'external_urls': {'spotify': 'https://open.s...   \n101  [{'external_urls': {'spotify': 'https://open.s...   \n\n                                     available_markets  disc_number  \\\n0    [AD, AE, AG, AL, AM, AO, AR, AT, AU, AZ, BA, B...            1   \n1    [AD, AE, AG, AL, AM, AO, AR, AT, AU, AZ, BA, B...            1   \n2    [AD, AE, AG, AL, AM, AO, AR, AT, AU, AZ, BA, B...            1   \n3    [AD, AE, AG, AL, AM, AO, AR, AT, AU, AZ, BA, B...            1   \n4    [AD, AE, AG, AL, AM, AO, AR, AT, AU, AZ, BA, B...            1   \n..                                                 ...          ...   \n97   [AD, AE, AG, AL, AM, AO, AR, AT, AU, AZ, BA, B...            1   \n98   [AD, AE, AG, AL, AM, AO, AR, AT, AU, AZ, BA, B...            1   \n99   [AD, AE, AG, AL, AM, AO, AR, AT, AU, AZ, BA, B...            1   \n100  [AD, AE, AG, AL, AM, AO, AR, AT, AU, AZ, BA, B...            1   \n101  [AD, AE, AG, AL, AM, AO, AR, AT, AU, AZ, BA, B...            1   \n\n     duration_ms  episode  explicit              external_ids  \\\n0         293546    False     False  {'isrc': 'INT202203051'}   \n1         243570    False     False  {'isrc': 'INS172200001'}   \n2         297389    False     False  {'isrc': 'INS172200431'}   \n3         332702    False     False  {'isrc': 'INS172002791'}   \n4         294135    False     False  {'isrc': 'TCAGB2205684'}   \n..           ...      ...       ...                       ...   \n97        202529    False     False  {'isrc': 'INH100507991'}   \n98        275946    False     False  {'isrc': 'INN130501489'}   \n99        208695    False     False  {'isrc': 'INT201902048'}   \n100       162200    False     False  {'isrc': 'DEE861804274'}   \n101       168247    False      True  {'isrc': 'USHM21822346'}   \n\n                                         external_urls  \\\n0    {'spotify': 'https://open.spotify.com/track/1N...   \n1    {'spotify': 'https://open.spotify.com/track/1U...   \n2    {'spotify': 'https://open.spotify.com/track/5J...   \n3    {'spotify': 'https://open.spotify.com/track/4o...   \n4    {'spotify': 'https://open.spotify.com/track/24...   \n..                                                 ...   \n97   {'spotify': 'https://open.spotify.com/track/4H...   \n98   {'spotify': 'https://open.spotify.com/track/68...   \n99   {'spotify': 'https://open.spotify.com/track/1V...   \n100  {'spotify': 'https://open.spotify.com/track/59...   \n101  {'spotify': 'https://open.spotify.com/track/0A...   \n\n                                                  href  \\\n0    https://api.spotify.com/v1/tracks/1NoaJoxPKQr9...   \n1    https://api.spotify.com/v1/tracks/1UUgngRGzFWf...   \n2    https://api.spotify.com/v1/tracks/5JC1RPGBMSiK...   \n3    https://api.spotify.com/v1/tracks/4oNVmnywnXgu...   \n4    https://api.spotify.com/v1/tracks/24OmFcucllce...   \n..                                                 ...   \n97   https://api.spotify.com/v1/tracks/4He8tSvVBkdu...   \n98   https://api.spotify.com/v1/tracks/68vNIjPP4qek...   \n99   https://api.spotify.com/v1/tracks/1VMXz8WddV7A...   \n100  https://api.spotify.com/v1/tracks/59sD9VrnVLXS...   \n101  https://api.spotify.com/v1/tracks/0Ay3ulIiYISR...   \n\n                         id  is_local  \\\n0    1NoaJoxPKQr9XNLOuKTyNV     False   \n1    1UUgngRGzFWfgpyN0WAN1r     False   \n2    5JC1RPGBMSiKlA3gniEmCW     False   \n3    4oNVmnywnXguyk76wkMuIb     False   \n4    24OmFcucllcefrg0pPOuCb     False   \n..                      ...       ...   \n97   4He8tSvVBkduCFB2zq2O1G     False   \n98   68vNIjPP4qeksAQI6wrCHy     False   \n99   1VMXz8WddV7AUkUOY2Q90z     False   \n100  59sD9VrnVLXSCC2iK0a8PN     False   \n101  0Ay3ulIiYISRrMn9m1pMsu     False   \n\n                                                  name  popularity  \\\n0    Kaalathukkum Nee Venum - From \"Vendhu Thanindh...          61   \n1     Naan Pizhai (From \"Kaathuvaakula Rendu Kaadhal\")          67   \n2                         Thozhi (From \"Hey Sinamika\")          56   \n3                   Mudhal Nee Mudivum Nee Title Track          66   \n4             Parandhu Pogindren (From \"Kuthiraivaal\")          41   \n..                                                 ...         ...   \n97                                Ganapathiye Varuvaai          28   \n98                                    Gnana Vinayagane           0   \n99                                     Aazhi Soozhndha          57   \n100                                          Cika Cika          52   \n101                                         Columbiana          47   \n\n                                           preview_url  track  track_number  \\\n0    https://p.scdn.co/mp3-preview/b9096b3362f127cb...   True             1   \n1    https://p.scdn.co/mp3-preview/11ce5ab315dc3143...   True             1   \n2    https://p.scdn.co/mp3-preview/0a0292171e349c5c...   True             1   \n3    https://p.scdn.co/mp3-preview/16c44c71f8228a1e...   True             2   \n4    https://p.scdn.co/mp3-preview/d15f1a449bca1905...   True             1   \n..                                                 ...    ...           ...   \n97   https://p.scdn.co/mp3-preview/edd6265370c1d039...   True             2   \n98   https://p.scdn.co/mp3-preview/a1b347f20ccbd99b...   True             3   \n99   https://p.scdn.co/mp3-preview/3eead6b5892060a3...   True             5   \n100  https://p.scdn.co/mp3-preview/3916cd4adc800199...   True             1   \n101  https://p.scdn.co/mp3-preview/404a68a6082197e6...   True             1   \n\n      type                                   uri  \n0    track  spotify:track:1NoaJoxPKQr9XNLOuKTyNV  \n1    track  spotify:track:1UUgngRGzFWfgpyN0WAN1r  \n2    track  spotify:track:5JC1RPGBMSiKlA3gniEmCW  \n3    track  spotify:track:4oNVmnywnXguyk76wkMuIb  \n4    track  spotify:track:24OmFcucllcefrg0pPOuCb  \n..     ...                                   ...  \n97   track  spotify:track:4He8tSvVBkduCFB2zq2O1G  \n98   track  spotify:track:68vNIjPP4qeksAQI6wrCHy  \n99   track  spotify:track:1VMXz8WddV7AUkUOY2Q90z  \n100  track  spotify:track:59sD9VrnVLXSCC2iK0a8PN  \n101  track  spotify:track:0Ay3ulIiYISRrMn9m1pMsu  \n\n[102 rows x 19 columns]",
      "text/html": "<div>\n<style scoped>\n    .dataframe tbody tr th:only-of-type {\n        vertical-align: middle;\n    }\n\n    .dataframe tbody tr th {\n        vertical-align: top;\n    }\n\n    .dataframe thead th {\n        text-align: right;\n    }\n</style>\n<table border=\"1\" class=\"dataframe\">\n  <thead>\n    <tr style=\"text-align: right;\">\n      <th></th>\n      <th>album</th>\n      <th>artists</th>\n      <th>available_markets</th>\n      <th>disc_number</th>\n      <th>duration_ms</th>\n      <th>episode</th>\n      <th>explicit</th>\n      <th>external_ids</th>\n      <th>external_urls</th>\n      <th>href</th>\n      <th>id</th>\n      <th>is_local</th>\n      <th>name</th>\n      <th>popularity</th>\n      <th>preview_url</th>\n      <th>track</th>\n      <th>track_number</th>\n      <th>type</th>\n      <th>uri</th>\n    </tr>\n  </thead>\n  <tbody>\n    <tr>\n      <th>0</th>\n      <td>{'album_type': 'single', 'artists': [{'externa...</td>\n      <td>[{'external_urls': {'spotify': 'https://open.s...</td>\n      <td>[AD, AE, AG, AL, AM, AO, AR, AT, AU, AZ, BA, B...</td>\n      <td>1</td>\n      <td>293546</td>\n      <td>False</td>\n      <td>False</td>\n      <td>{'isrc': 'INT202203051'}</td>\n      <td>{'spotify': 'https://open.spotify.com/track/1N...</td>\n      <td>https://api.spotify.com/v1/tracks/1NoaJoxPKQr9...</td>\n      <td>1NoaJoxPKQr9XNLOuKTyNV</td>\n      <td>False</td>\n      <td>Kaalathukkum Nee Venum - From \"Vendhu Thanindh...</td>\n      <td>61</td>\n      <td>https://p.scdn.co/mp3-preview/b9096b3362f127cb...</td>\n      <td>True</td>\n      <td>1</td>\n      <td>track</td>\n      <td>spotify:track:1NoaJoxPKQr9XNLOuKTyNV</td>\n    </tr>\n    <tr>\n      <th>1</th>\n      <td>{'album_type': 'single', 'artists': [{'externa...</td>\n      <td>[{'external_urls': {'spotify': 'https://open.s...</td>\n      <td>[AD, AE, AG, AL, AM, AO, AR, AT, AU, AZ, BA, B...</td>\n      <td>1</td>\n      <td>243570</td>\n      <td>False</td>\n      <td>False</td>\n      <td>{'isrc': 'INS172200001'}</td>\n      <td>{'spotify': 'https://open.spotify.com/track/1U...</td>\n      <td>https://api.spotify.com/v1/tracks/1UUgngRGzFWf...</td>\n      <td>1UUgngRGzFWfgpyN0WAN1r</td>\n      <td>False</td>\n      <td>Naan Pizhai (From \"Kaathuvaakula Rendu Kaadhal\")</td>\n      <td>67</td>\n      <td>https://p.scdn.co/mp3-preview/11ce5ab315dc3143...</td>\n      <td>True</td>\n      <td>1</td>\n      <td>track</td>\n      <td>spotify:track:1UUgngRGzFWfgpyN0WAN1r</td>\n    </tr>\n    <tr>\n      <th>2</th>\n      <td>{'album_type': 'single', 'artists': [{'externa...</td>\n      <td>[{'external_urls': {'spotify': 'https://open.s...</td>\n      <td>[AD, AE, AG, AL, AM, AO, AR, AT, AU, AZ, BA, B...</td>\n      <td>1</td>\n      <td>297389</td>\n      <td>False</td>\n      <td>False</td>\n      <td>{'isrc': 'INS172200431'}</td>\n      <td>{'spotify': 'https://open.spotify.com/track/5J...</td>\n      <td>https://api.spotify.com/v1/tracks/5JC1RPGBMSiK...</td>\n      <td>5JC1RPGBMSiKlA3gniEmCW</td>\n      <td>False</td>\n      <td>Thozhi (From \"Hey Sinamika\")</td>\n      <td>56</td>\n      <td>https://p.scdn.co/mp3-preview/0a0292171e349c5c...</td>\n      <td>True</td>\n      <td>1</td>\n      <td>track</td>\n      <td>spotify:track:5JC1RPGBMSiKlA3gniEmCW</td>\n    </tr>\n    <tr>\n      <th>3</th>\n      <td>{'album_type': 'single', 'artists': [{'externa...</td>\n      <td>[{'external_urls': {'spotify': 'https://open.s...</td>\n      <td>[AD, AE, AG, AL, AM, AO, AR, AT, AU, AZ, BA, B...</td>\n      <td>1</td>\n      <td>332702</td>\n      <td>False</td>\n      <td>False</td>\n      <td>{'isrc': 'INS172002791'}</td>\n      <td>{'spotify': 'https://open.spotify.com/track/4o...</td>\n      <td>https://api.spotify.com/v1/tracks/4oNVmnywnXgu...</td>\n      <td>4oNVmnywnXguyk76wkMuIb</td>\n      <td>False</td>\n      <td>Mudhal Nee Mudivum Nee Title Track</td>\n      <td>66</td>\n      <td>https://p.scdn.co/mp3-preview/16c44c71f8228a1e...</td>\n      <td>True</td>\n      <td>2</td>\n      <td>track</td>\n      <td>spotify:track:4oNVmnywnXguyk76wkMuIb</td>\n    </tr>\n    <tr>\n      <th>4</th>\n      <td>{'album_type': 'single', 'artists': [{'externa...</td>\n      <td>[{'external_urls': {'spotify': 'https://open.s...</td>\n      <td>[AD, AE, AG, AL, AM, AO, AR, AT, AU, AZ, BA, B...</td>\n      <td>1</td>\n      <td>294135</td>\n      <td>False</td>\n      <td>False</td>\n      <td>{'isrc': 'TCAGB2205684'}</td>\n      <td>{'spotify': 'https://open.spotify.com/track/24...</td>\n      <td>https://api.spotify.com/v1/tracks/24OmFcucllce...</td>\n      <td>24OmFcucllcefrg0pPOuCb</td>\n      <td>False</td>\n      <td>Parandhu Pogindren (From \"Kuthiraivaal\")</td>\n      <td>41</td>\n      <td>https://p.scdn.co/mp3-preview/d15f1a449bca1905...</td>\n      <td>True</td>\n      <td>1</td>\n      <td>track</td>\n      <td>spotify:track:24OmFcucllcefrg0pPOuCb</td>\n    </tr>\n    <tr>\n      <th>...</th>\n      <td>...</td>\n      <td>...</td>\n      <td>...</td>\n      <td>...</td>\n      <td>...</td>\n      <td>...</td>\n      <td>...</td>\n      <td>...</td>\n      <td>...</td>\n      <td>...</td>\n      <td>...</td>\n      <td>...</td>\n      <td>...</td>\n      <td>...</td>\n      <td>...</td>\n      <td>...</td>\n      <td>...</td>\n      <td>...</td>\n      <td>...</td>\n    </tr>\n    <tr>\n      <th>97</th>\n      <td>{'album_type': 'album', 'artists': [{'external...</td>\n      <td>[{'external_urls': {'spotify': 'https://open.s...</td>\n      <td>[AD, AE, AG, AL, AM, AO, AR, AT, AU, AZ, BA, B...</td>\n      <td>1</td>\n      <td>202529</td>\n      <td>False</td>\n      <td>False</td>\n      <td>{'isrc': 'INH100507991'}</td>\n      <td>{'spotify': 'https://open.spotify.com/track/4H...</td>\n      <td>https://api.spotify.com/v1/tracks/4He8tSvVBkdu...</td>\n      <td>4He8tSvVBkduCFB2zq2O1G</td>\n      <td>False</td>\n      <td>Ganapathiye Varuvaai</td>\n      <td>28</td>\n      <td>https://p.scdn.co/mp3-preview/edd6265370c1d039...</td>\n      <td>True</td>\n      <td>2</td>\n      <td>track</td>\n      <td>spotify:track:4He8tSvVBkduCFB2zq2O1G</td>\n    </tr>\n    <tr>\n      <th>98</th>\n      <td>{'album_type': 'album', 'artists': [{'external...</td>\n      <td>[{'external_urls': {'spotify': 'https://open.s...</td>\n      <td>[AD, AE, AG, AL, AM, AO, AR, AT, AU, AZ, BA, B...</td>\n      <td>1</td>\n      <td>275946</td>\n      <td>False</td>\n      <td>False</td>\n      <td>{'isrc': 'INN130501489'}</td>\n      <td>{'spotify': 'https://open.spotify.com/track/68...</td>\n      <td>https://api.spotify.com/v1/tracks/68vNIjPP4qek...</td>\n      <td>68vNIjPP4qeksAQI6wrCHy</td>\n      <td>False</td>\n      <td>Gnana Vinayagane</td>\n      <td>0</td>\n      <td>https://p.scdn.co/mp3-preview/a1b347f20ccbd99b...</td>\n      <td>True</td>\n      <td>3</td>\n      <td>track</td>\n      <td>spotify:track:68vNIjPP4qeksAQI6wrCHy</td>\n    </tr>\n    <tr>\n      <th>99</th>\n      <td>{'album_type': 'single', 'artists': [{'externa...</td>\n      <td>[{'external_urls': {'spotify': 'https://open.s...</td>\n      <td>[AD, AE, AG, AL, AM, AO, AR, AT, AU, AZ, BA, B...</td>\n      <td>1</td>\n      <td>208695</td>\n      <td>False</td>\n      <td>False</td>\n      <td>{'isrc': 'INT201902048'}</td>\n      <td>{'spotify': 'https://open.spotify.com/track/1V...</td>\n      <td>https://api.spotify.com/v1/tracks/1VMXz8WddV7A...</td>\n      <td>1VMXz8WddV7AUkUOY2Q90z</td>\n      <td>False</td>\n      <td>Aazhi Soozhndha</td>\n      <td>57</td>\n      <td>https://p.scdn.co/mp3-preview/3eead6b5892060a3...</td>\n      <td>True</td>\n      <td>5</td>\n      <td>track</td>\n      <td>spotify:track:1VMXz8WddV7AUkUOY2Q90z</td>\n    </tr>\n    <tr>\n      <th>100</th>\n      <td>{'album_type': 'single', 'artists': [{'externa...</td>\n      <td>[{'external_urls': {'spotify': 'https://open.s...</td>\n      <td>[AD, AE, AG, AL, AM, AO, AR, AT, AU, AZ, BA, B...</td>\n      <td>1</td>\n      <td>162200</td>\n      <td>False</td>\n      <td>False</td>\n      <td>{'isrc': 'DEE861804274'}</td>\n      <td>{'spotify': 'https://open.spotify.com/track/59...</td>\n      <td>https://api.spotify.com/v1/tracks/59sD9VrnVLXS...</td>\n      <td>59sD9VrnVLXSCC2iK0a8PN</td>\n      <td>False</td>\n      <td>Cika Cika</td>\n      <td>52</td>\n      <td>https://p.scdn.co/mp3-preview/3916cd4adc800199...</td>\n      <td>True</td>\n      <td>1</td>\n      <td>track</td>\n      <td>spotify:track:59sD9VrnVLXSCC2iK0a8PN</td>\n    </tr>\n    <tr>\n      <th>101</th>\n      <td>{'album_type': 'single', 'artists': [{'externa...</td>\n      <td>[{'external_urls': {'spotify': 'https://open.s...</td>\n      <td>[AD, AE, AG, AL, AM, AO, AR, AT, AU, AZ, BA, B...</td>\n      <td>1</td>\n      <td>168247</td>\n      <td>False</td>\n      <td>True</td>\n      <td>{'isrc': 'USHM21822346'}</td>\n      <td>{'spotify': 'https://open.spotify.com/track/0A...</td>\n      <td>https://api.spotify.com/v1/tracks/0Ay3ulIiYISR...</td>\n      <td>0Ay3ulIiYISRrMn9m1pMsu</td>\n      <td>False</td>\n      <td>Columbiana</td>\n      <td>47</td>\n      <td>https://p.scdn.co/mp3-preview/404a68a6082197e6...</td>\n      <td>True</td>\n      <td>1</td>\n      <td>track</td>\n      <td>spotify:track:0Ay3ulIiYISRrMn9m1pMsu</td>\n    </tr>\n  </tbody>\n</table>\n<p>102 rows × 19 columns</p>\n</div>"
     },
     "execution_count": 20,
     "metadata": {},
     "output_type": "execute_result"
    }
   ],
   "source": [
    "tracksSangeeths"
   ]
  },
  {
   "cell_type": "code",
   "execution_count": 20,
   "id": "f571c4f9",
   "metadata": {},
   "outputs": [],
   "source": []
  }
 ],
 "metadata": {
  "kernelspec": {
   "display_name": "base",
   "language": "python",
   "name": "python3"
  },
  "language_info": {
   "codemirror_mode": {
    "name": "ipython",
    "version": 3
   },
   "file_extension": ".py",
   "mimetype": "text/x-python",
   "name": "python",
   "nbconvert_exporter": "python",
   "pygments_lexer": "ipython3",
   "version": "3.9.12"
  },
  "vscode": {
   "interpreter": {
    "hash": "ae9a7d9487522a32e05e93c24ebd7bce3d2603c885a6c5ff62d83af700e228db"
   }
  }
 },
 "nbformat": 4,
 "nbformat_minor": 5
}
