{
 "cells": [
  {
   "cell_type": "code",
   "execution_count": 1,
   "metadata": {},
   "outputs": [],
   "source": [
    "# Gute Fragestellung für datascience Projekt (Sportify)\n",
    "# Gibt es einen Zusammenhang zwischen eigenen Musikgeschmack und der Geschmack der anderen?\n",
    "\n",
    "# Importieren der benötigten Bibliotheken\n",
    "import sys\n",
    "import os as os\n",
    "assert sys.version_info >= (3, 5)\n",
    "\n",
    "import sklearn\n",
    "assert sklearn.__version__ >= \"0.20\"\n",
    "\n",
    "import math\n",
    "import matplotlib as mpl\n",
    "import matplotlib.pyplot as plt\n",
    "import numpy as np\n",
    "from sklearn.model_selection import train_test_split\n",
    "import seaborn as sns\n",
    "import spotipy\n",
    "import pandas as pd\n",
    "from spotipy.oauth2 import SpotifyClientCredentials\n"
   ]
  },
  {
   "cell_type": "markdown",
   "source": [
    "# Variablen und Funktionsdeklarationen\n",
    "\n",
    "Um mit spotipy auf die Daten zugreiffen zu können, müssen `CLIENT_ID` und `CLIENT_SECRET` zwingendermassen gesetzt sein. Die Variablen `USERSANGEETHS` und `USERSTIAFEN` notwendig da wir mit der Spotipy methode `user_playlist` arbeiten."
   ],
   "metadata": {
    "collapsed": false
   }
  },
  {
   "cell_type": "code",
   "execution_count": 2,
   "id": "9c240b82",
   "metadata": {},
   "outputs": [],
   "source": [
    "CLIENT_ID = \"082b3dd7a97642d49b60a647673caa75\"\n",
    "CLIENT_SECRET = \"276e4715f8a14a34a7622c0105a8588c\"\n",
    "USERSANGEETHS = \"qme120m1x3bg2wrtw3haiiyrb\"\n",
    "USERSTIAFEN = \"stiafen\"\n",
    "\n",
    "client_credentials_manager = SpotifyClientCredentials(client_id=CLIENT_ID, client_secret=CLIENT_SECRET)\n",
    "sp = spotipy.Spotify(client_credentials_manager=client_credentials_manager) #spotify object to access API"
   ]
  },
  {
   "cell_type": "code",
   "execution_count": 3,
   "id": "701fafd8",
   "metadata": {},
   "outputs": [],
   "source": [
    "# get all playlists of a user\n",
    "def get_playlists(user):\n",
    "    playlists = sp.user_playlists(user)\n",
    "    playlist_ids = []\n",
    "    while playlists:\n",
    "        for i, playlist in enumerate(playlists['items']):\n",
    "            playlist_ids.append(playlist['id'])\n",
    "        if playlists['next']:\n",
    "            playlists = sp.next(playlists)\n",
    "        else:\n",
    "            playlists = None\n",
    "    return playlist_ids"
   ]
  },
  {
   "cell_type": "code",
   "execution_count": 4,
   "id": "a36e108f",
   "metadata": {},
   "outputs": [],
   "source": [
    "playlistsSangeeths = get_playlists(USERSANGEETHS)\n",
    "playlistsTiafen = get_playlists(USERSTIAFEN)\n",
    "\n",
    "# get the name of the playlists, will later be used to print all available playlists for a user\n",
    "def get_playlist_name(user, playlist_id):\n",
    "    playlist = sp.user_playlist(user, playlist_id)\n",
    "    return playlist['name'], playlist['id']\n"
   ]
  },
  {
   "cell_type": "code",
   "execution_count": 5,
   "outputs": [],
   "source": [
    "#Funktion welche mittels user und playlist ID alle Tracks für eine Playlist ausgibt\n",
    "def get_playlist_tracks(user, playlist_id):\n",
    "    results = sp.user_playlist_tracks(user, playlist_id)\n",
    "    tracks = results['items']\n",
    "    while results['next']:\n",
    "        results = sp.next(results)\n",
    "        tracks.extend(results['items'])\n",
    "    return tracks\n"
   ],
   "metadata": {
    "collapsed": false
   }
  },
  {
   "cell_type": "code",
   "execution_count": 6,
   "outputs": [],
   "source": [
    "#Funktion welche mittels user und playlist ID alle Tracks für eine Playlist ausgibt\n",
    "def get_playlist_tracks_artists(user, playlist_id):\n",
    "    results = sp.user_playlist_tracks(user, playlist_id)\n",
    "    tracks = results['items']\n",
    "    while results['next']:\n",
    "        results = sp.next(results)\n",
    "        tracks.extend(results['items'])\n",
    "    return tracks"
   ],
   "metadata": {
    "collapsed": false
   }
  },
  {
   "cell_type": "markdown",
   "source": [
    "Um nun die ID der playlist zu erhalten, in welcher wir unsere Lieblingssongs gespeichert haben nutzen wir die zuvor definierte Funktion `get_playlist_name` welche über das Resultat der Funktion `get_playlists` für den jeweiligen Benutzer läuft.\n",
    "Um die Übersicht zu behalten haben wir unsere Playlists *Fav Songs \"NAME\"* genannt"
   ],
   "metadata": {
    "collapsed": false
   }
  },
  {
   "cell_type": "code",
   "execution_count": 7,
   "outputs": [
    {
     "name": "stdout",
     "output_type": "stream",
     "text": [
      "('Testo pur🏋🏽', '7o70luarSZS5DHoODMH51U')\n",
      "('Fav Songs Sangeeths', '2E7GAf1h3F19ezc18w1NpZ')\n",
      "('Tamil Vibes', '64Lq6W07GIOs087K88iOzT')\n",
      "('Arabic  Vibes', '1Rr83zHLDULxQDbC9taydm')\n",
      "('Albanien Vibes', '6jyy1HUool6rj0xWLVsAPC')\n",
      "('UK DRILL ', '5ycwKESGY1Z71ftYWmTVJs')\n",
      "('Baba Vibes', '67a5HCEjwm4aXvjPVoxoAX')\n",
      "('Fav Songs Stiafen', '0ekbyk9EKkCf4MBjrQoM2D')\n",
      "('Favorite Songs', '4DeCJm3aeeb0TTdthf8MGY')\n",
      "('Caterpillar (feat. Eminem & King Green)', '1JKSl9B6hJNCGFs9FdOq8I')\n",
      "('Meine Playlist Nr.\\xa034', '3uBDJVShkGJKFxPNnjC7IL')\n",
      "('Dein Mixtape\\xa06 - ZUSAMMENGESTELLT FÜR STIAFEN:21.06.19', '48I13UCIzloZpyRE23zwIa')\n",
      "('Mixtape 3', '2jnqcj5CxaBLHjzVafdmce')\n",
      "('Oldschool', '4RjDNPzba04zlAan0a4bTE')\n"
     ]
    }
   ],
   "source": [
    "for playlist in playlistsSangeeths:\n",
    "    print(get_playlist_name(USERSANGEETHS, playlist))\n",
    "\n",
    "for playlist in playlistsTiafen:\n",
    "    print(get_playlist_name(USERSTIAFEN, playlist))"
   ],
   "metadata": {
    "collapsed": false
   }
  },
  {
   "cell_type": "code",
   "execution_count": 8,
   "id": "b4a668b6",
   "metadata": {},
   "outputs": [],
   "source": [
    "#Variablen für Playlists Sangeeths und Stiafen\n",
    "favoritplaylistSangeeths = \"2E7GAf1h3F19ezc18w1NpZ\"\n",
    "favoritplaylistStiafen = \"0ekbyk9EKkCf4MBjrQoM2D\"\n",
    "\n",
    "\n",
    "# Für Beide User wird eine Dataframe mit allen Tracks erstellt\n",
    "tracksSangeeths = get_playlist_tracks(USERSANGEETHS, favoritplaylistSangeeths)\n",
    "tracksSangeeths = pd.DataFrame(tracksSangeeths)\n",
    "\n",
    "tracksStiafen = get_playlist_tracks(USERSTIAFEN, favoritplaylistStiafen)\n",
    "tracksStiafen = pd.DataFrame(tracksStiafen)"
   ]
  },
  {
   "cell_type": "code",
   "execution_count": 9,
   "outputs": [
    {
     "data": {
      "text/plain": "                                                 album  \\\n0    {'album_type': 'album', 'artists': [{'external...   \n1    {'album_type': 'album', 'artists': [{'external...   \n2    {'album_type': 'album', 'artists': [{'external...   \n3    {'album_type': 'album', 'artists': [{'external...   \n4    {'album_type': 'album', 'artists': [{'external...   \n..                                                 ...   \n363  {'album_type': 'album', 'artists': [{'external...   \n364  {'album_type': 'album', 'artists': [{'external...   \n365  {'album_type': 'album', 'artists': [{'external...   \n366  {'album_type': 'compilation', 'artists': [{'ex...   \n367  {'album_type': 'single', 'artists': [{'externa...   \n\n                                               artists  \\\n0    [{'external_urls': {'spotify': 'https://open.s...   \n1    [{'external_urls': {'spotify': 'https://open.s...   \n2    [{'external_urls': {'spotify': 'https://open.s...   \n3    [{'external_urls': {'spotify': 'https://open.s...   \n4    [{'external_urls': {'spotify': 'https://open.s...   \n..                                                 ...   \n363  [{'external_urls': {'spotify': 'https://open.s...   \n364  [{'external_urls': {'spotify': 'https://open.s...   \n365  [{'external_urls': {'spotify': 'https://open.s...   \n366  [{'external_urls': {'spotify': 'https://open.s...   \n367  [{'external_urls': {'spotify': 'https://open.s...   \n\n                                     available_markets  disc_number  \\\n0    [AD, AE, AG, AL, AM, AO, AR, AT, AU, AZ, BA, B...            1   \n1    [AD, AE, AG, AL, AM, AO, AR, AT, AU, AZ, BA, B...            1   \n2    [AE, AG, AL, AM, AO, AR, AT, AU, AZ, BA, BB, B...            1   \n3    [AD, AE, AG, AL, AM, AO, AR, AT, AU, AZ, BA, B...            1   \n4    [AD, AE, AG, AL, AM, AO, AR, AT, AU, AZ, BA, B...            1   \n..                                                 ...          ...   \n363  [AD, AE, AG, AL, AM, AO, AR, AT, AU, AZ, BA, B...            1   \n364  [AD, AE, AG, AL, AM, AO, AR, AT, AU, AZ, BA, B...            1   \n365  [AD, AE, AG, AL, AM, AO, AR, AT, AU, AZ, BA, B...            1   \n366  [AE, AR, AT, AU, BE, BG, BH, BO, BR, CA, CH, C...            1   \n367  [AD, AE, AG, AL, AM, AO, AR, AT, AU, AZ, BA, B...            1   \n\n     duration_ms  episode  explicit              external_ids  \\\n0        1463703    False     False  {'isrc': 'DESR72036116'}   \n1         378733    False     False  {'isrc': 'DEE861700261'}   \n2         295218    False     False  {'isrc': 'DEN960100244'}   \n3         132120    False     False  {'isrc': 'HKI190055512'}   \n4         407946    False     False  {'isrc': 'DEAD62004705'}   \n..           ...      ...       ...                       ...   \n363       118200    False     False  {'isrc': 'USX761440301'}   \n364       965280    False     False  {'isrc': 'GBAYC0702035'}   \n365       329626    False     False  {'isrc': 'DEN961801830'}   \n366       567533    False     False  {'isrc': 'DEF058100130'}   \n367       602175    False     False  {'isrc': 'DEN961902160'}   \n\n                                         external_urls  \\\n0    {'spotify': 'https://open.spotify.com/track/3d...   \n1    {'spotify': 'https://open.spotify.com/track/1O...   \n2    {'spotify': 'https://open.spotify.com/track/3o...   \n3    {'spotify': 'https://open.spotify.com/track/5T...   \n4    {'spotify': 'https://open.spotify.com/track/6a...   \n..                                                 ...   \n363  {'spotify': 'https://open.spotify.com/track/0B...   \n364  {'spotify': 'https://open.spotify.com/track/2J...   \n365  {'spotify': 'https://open.spotify.com/track/2P...   \n366  {'spotify': 'https://open.spotify.com/track/2w...   \n367  {'spotify': 'https://open.spotify.com/track/2k...   \n\n                                                  href  \\\n0    https://api.spotify.com/v1/tracks/3ddAtoSripae...   \n1    https://api.spotify.com/v1/tracks/1Oo7XEqkrwif...   \n2    https://api.spotify.com/v1/tracks/3o9br9LskOEb...   \n3    https://api.spotify.com/v1/tracks/5TtmI9sfXw4V...   \n4    https://api.spotify.com/v1/tracks/6aD8MeXrjHNz...   \n..                                                 ...   \n363  https://api.spotify.com/v1/tracks/0BgHDpDnFg1W...   \n364  https://api.spotify.com/v1/tracks/2JzsHRzDT3kC...   \n365  https://api.spotify.com/v1/tracks/2PD8ghbTwRy3...   \n366  https://api.spotify.com/v1/tracks/2wcqhYITSlQz...   \n367  https://api.spotify.com/v1/tracks/2kAdK72mjmKi...   \n\n                         id  is_local  \\\n0    3ddAtoSripaeASJeovlIsg     False   \n1    1Oo7XEqkrwifJn17aA0ocF     False   \n2    3o9br9LskOEbwc5irxfHqR     False   \n3    5TtmI9sfXw4VXco0PE21mV     False   \n4    6aD8MeXrjHNz7YgrTLHhyA     False   \n..                      ...       ...   \n363  0BgHDpDnFg1Wfm9r7XsWeG     False   \n364  2JzsHRzDT3kCokSu0ggZ8U     False   \n365  2PD8ghbTwRy3tqQkXnMsjs     False   \n366  2wcqhYITSlQzZ8dqw6n9VQ     False   \n367  2kAdK72mjmKiAxfAMGgXBU     False   \n\n                                                  name  popularity  \\\n0    Symphony No. 3 in D Minor: VI. Langsam. Ruhevo...          27   \n1    Sechs Klavierstücke, Op. 118: II. Intermezzo i...          64   \n2    Serenade for Strings in E Major, Op. 22, B. 52...          51   \n3                   2 Aquarelles: Lento, ma non troppo          63   \n4    Serenade for Strings in E Minor, Op. 20: II. L...          39   \n..                                                 ...         ...   \n363  Book I: Prelude and Fugue No. 1 in C Major BWV...          39   \n364  Schumann: Piano Concerto in A Minor, Op. 54: I...          31   \n365                                     Rêverie, L. 68          34   \n366                     4 Ballades, Op. 10: No. 4 In B          31   \n367                           Rondo in A Minor, K. 511          41   \n\n                                           preview_url  track  track_number  \\\n0    https://p.scdn.co/mp3-preview/87233ea4f437e0c7...   True             6   \n1    https://p.scdn.co/mp3-preview/34054c2ef25c45bb...   True             9   \n2                                                 None   True             4   \n3    https://p.scdn.co/mp3-preview/53e4cd9c2b3f4a4c...   True            12   \n4    https://p.scdn.co/mp3-preview/9638a58cd7378e33...   True             5   \n..                                                 ...    ...           ...   \n363  https://p.scdn.co/mp3-preview/8aabf7351a2e09f0...   True             1   \n364  https://p.scdn.co/mp3-preview/a4ac5cbd82a3c6a8...   True             4   \n365                                               None   True            12   \n366                                               None   True           137   \n367                                               None   True             1   \n\n      type                                   uri  \n0    track  spotify:track:3ddAtoSripaeASJeovlIsg  \n1    track  spotify:track:1Oo7XEqkrwifJn17aA0ocF  \n2    track  spotify:track:3o9br9LskOEbwc5irxfHqR  \n3    track  spotify:track:5TtmI9sfXw4VXco0PE21mV  \n4    track  spotify:track:6aD8MeXrjHNz7YgrTLHhyA  \n..     ...                                   ...  \n363  track  spotify:track:0BgHDpDnFg1Wfm9r7XsWeG  \n364  track  spotify:track:2JzsHRzDT3kCokSu0ggZ8U  \n365  track  spotify:track:2PD8ghbTwRy3tqQkXnMsjs  \n366  track  spotify:track:2wcqhYITSlQzZ8dqw6n9VQ  \n367  track  spotify:track:2kAdK72mjmKiAxfAMGgXBU  \n\n[368 rows x 19 columns]",
      "text/html": "<div>\n<style scoped>\n    .dataframe tbody tr th:only-of-type {\n        vertical-align: middle;\n    }\n\n    .dataframe tbody tr th {\n        vertical-align: top;\n    }\n\n    .dataframe thead th {\n        text-align: right;\n    }\n</style>\n<table border=\"1\" class=\"dataframe\">\n  <thead>\n    <tr style=\"text-align: right;\">\n      <th></th>\n      <th>album</th>\n      <th>artists</th>\n      <th>available_markets</th>\n      <th>disc_number</th>\n      <th>duration_ms</th>\n      <th>episode</th>\n      <th>explicit</th>\n      <th>external_ids</th>\n      <th>external_urls</th>\n      <th>href</th>\n      <th>id</th>\n      <th>is_local</th>\n      <th>name</th>\n      <th>popularity</th>\n      <th>preview_url</th>\n      <th>track</th>\n      <th>track_number</th>\n      <th>type</th>\n      <th>uri</th>\n    </tr>\n  </thead>\n  <tbody>\n    <tr>\n      <th>0</th>\n      <td>{'album_type': 'album', 'artists': [{'external...</td>\n      <td>[{'external_urls': {'spotify': 'https://open.s...</td>\n      <td>[AD, AE, AG, AL, AM, AO, AR, AT, AU, AZ, BA, B...</td>\n      <td>1</td>\n      <td>1463703</td>\n      <td>False</td>\n      <td>False</td>\n      <td>{'isrc': 'DESR72036116'}</td>\n      <td>{'spotify': 'https://open.spotify.com/track/3d...</td>\n      <td>https://api.spotify.com/v1/tracks/3ddAtoSripae...</td>\n      <td>3ddAtoSripaeASJeovlIsg</td>\n      <td>False</td>\n      <td>Symphony No. 3 in D Minor: VI. Langsam. Ruhevo...</td>\n      <td>27</td>\n      <td>https://p.scdn.co/mp3-preview/87233ea4f437e0c7...</td>\n      <td>True</td>\n      <td>6</td>\n      <td>track</td>\n      <td>spotify:track:3ddAtoSripaeASJeovlIsg</td>\n    </tr>\n    <tr>\n      <th>1</th>\n      <td>{'album_type': 'album', 'artists': [{'external...</td>\n      <td>[{'external_urls': {'spotify': 'https://open.s...</td>\n      <td>[AD, AE, AG, AL, AM, AO, AR, AT, AU, AZ, BA, B...</td>\n      <td>1</td>\n      <td>378733</td>\n      <td>False</td>\n      <td>False</td>\n      <td>{'isrc': 'DEE861700261'}</td>\n      <td>{'spotify': 'https://open.spotify.com/track/1O...</td>\n      <td>https://api.spotify.com/v1/tracks/1Oo7XEqkrwif...</td>\n      <td>1Oo7XEqkrwifJn17aA0ocF</td>\n      <td>False</td>\n      <td>Sechs Klavierstücke, Op. 118: II. Intermezzo i...</td>\n      <td>64</td>\n      <td>https://p.scdn.co/mp3-preview/34054c2ef25c45bb...</td>\n      <td>True</td>\n      <td>9</td>\n      <td>track</td>\n      <td>spotify:track:1Oo7XEqkrwifJn17aA0ocF</td>\n    </tr>\n    <tr>\n      <th>2</th>\n      <td>{'album_type': 'album', 'artists': [{'external...</td>\n      <td>[{'external_urls': {'spotify': 'https://open.s...</td>\n      <td>[AE, AG, AL, AM, AO, AR, AT, AU, AZ, BA, BB, B...</td>\n      <td>1</td>\n      <td>295218</td>\n      <td>False</td>\n      <td>False</td>\n      <td>{'isrc': 'DEN960100244'}</td>\n      <td>{'spotify': 'https://open.spotify.com/track/3o...</td>\n      <td>https://api.spotify.com/v1/tracks/3o9br9LskOEb...</td>\n      <td>3o9br9LskOEbwc5irxfHqR</td>\n      <td>False</td>\n      <td>Serenade for Strings in E Major, Op. 22, B. 52...</td>\n      <td>51</td>\n      <td>None</td>\n      <td>True</td>\n      <td>4</td>\n      <td>track</td>\n      <td>spotify:track:3o9br9LskOEbwc5irxfHqR</td>\n    </tr>\n    <tr>\n      <th>3</th>\n      <td>{'album_type': 'album', 'artists': [{'external...</td>\n      <td>[{'external_urls': {'spotify': 'https://open.s...</td>\n      <td>[AD, AE, AG, AL, AM, AO, AR, AT, AU, AZ, BA, B...</td>\n      <td>1</td>\n      <td>132120</td>\n      <td>False</td>\n      <td>False</td>\n      <td>{'isrc': 'HKI190055512'}</td>\n      <td>{'spotify': 'https://open.spotify.com/track/5T...</td>\n      <td>https://api.spotify.com/v1/tracks/5TtmI9sfXw4V...</td>\n      <td>5TtmI9sfXw4VXco0PE21mV</td>\n      <td>False</td>\n      <td>2 Aquarelles: Lento, ma non troppo</td>\n      <td>63</td>\n      <td>https://p.scdn.co/mp3-preview/53e4cd9c2b3f4a4c...</td>\n      <td>True</td>\n      <td>12</td>\n      <td>track</td>\n      <td>spotify:track:5TtmI9sfXw4VXco0PE21mV</td>\n    </tr>\n    <tr>\n      <th>4</th>\n      <td>{'album_type': 'album', 'artists': [{'external...</td>\n      <td>[{'external_urls': {'spotify': 'https://open.s...</td>\n      <td>[AD, AE, AG, AL, AM, AO, AR, AT, AU, AZ, BA, B...</td>\n      <td>1</td>\n      <td>407946</td>\n      <td>False</td>\n      <td>False</td>\n      <td>{'isrc': 'DEAD62004705'}</td>\n      <td>{'spotify': 'https://open.spotify.com/track/6a...</td>\n      <td>https://api.spotify.com/v1/tracks/6aD8MeXrjHNz...</td>\n      <td>6aD8MeXrjHNz7YgrTLHhyA</td>\n      <td>False</td>\n      <td>Serenade for Strings in E Minor, Op. 20: II. L...</td>\n      <td>39</td>\n      <td>https://p.scdn.co/mp3-preview/9638a58cd7378e33...</td>\n      <td>True</td>\n      <td>5</td>\n      <td>track</td>\n      <td>spotify:track:6aD8MeXrjHNz7YgrTLHhyA</td>\n    </tr>\n    <tr>\n      <th>...</th>\n      <td>...</td>\n      <td>...</td>\n      <td>...</td>\n      <td>...</td>\n      <td>...</td>\n      <td>...</td>\n      <td>...</td>\n      <td>...</td>\n      <td>...</td>\n      <td>...</td>\n      <td>...</td>\n      <td>...</td>\n      <td>...</td>\n      <td>...</td>\n      <td>...</td>\n      <td>...</td>\n      <td>...</td>\n      <td>...</td>\n      <td>...</td>\n    </tr>\n    <tr>\n      <th>363</th>\n      <td>{'album_type': 'album', 'artists': [{'external...</td>\n      <td>[{'external_urls': {'spotify': 'https://open.s...</td>\n      <td>[AD, AE, AG, AL, AM, AO, AR, AT, AU, AZ, BA, B...</td>\n      <td>1</td>\n      <td>118200</td>\n      <td>False</td>\n      <td>False</td>\n      <td>{'isrc': 'USX761440301'}</td>\n      <td>{'spotify': 'https://open.spotify.com/track/0B...</td>\n      <td>https://api.spotify.com/v1/tracks/0BgHDpDnFg1W...</td>\n      <td>0BgHDpDnFg1Wfm9r7XsWeG</td>\n      <td>False</td>\n      <td>Book I: Prelude and Fugue No. 1 in C Major BWV...</td>\n      <td>39</td>\n      <td>https://p.scdn.co/mp3-preview/8aabf7351a2e09f0...</td>\n      <td>True</td>\n      <td>1</td>\n      <td>track</td>\n      <td>spotify:track:0BgHDpDnFg1Wfm9r7XsWeG</td>\n    </tr>\n    <tr>\n      <th>364</th>\n      <td>{'album_type': 'album', 'artists': [{'external...</td>\n      <td>[{'external_urls': {'spotify': 'https://open.s...</td>\n      <td>[AD, AE, AG, AL, AM, AO, AR, AT, AU, AZ, BA, B...</td>\n      <td>1</td>\n      <td>965280</td>\n      <td>False</td>\n      <td>False</td>\n      <td>{'isrc': 'GBAYC0702035'}</td>\n      <td>{'spotify': 'https://open.spotify.com/track/2J...</td>\n      <td>https://api.spotify.com/v1/tracks/2JzsHRzDT3kC...</td>\n      <td>2JzsHRzDT3kCokSu0ggZ8U</td>\n      <td>False</td>\n      <td>Schumann: Piano Concerto in A Minor, Op. 54: I...</td>\n      <td>31</td>\n      <td>https://p.scdn.co/mp3-preview/a4ac5cbd82a3c6a8...</td>\n      <td>True</td>\n      <td>4</td>\n      <td>track</td>\n      <td>spotify:track:2JzsHRzDT3kCokSu0ggZ8U</td>\n    </tr>\n    <tr>\n      <th>365</th>\n      <td>{'album_type': 'album', 'artists': [{'external...</td>\n      <td>[{'external_urls': {'spotify': 'https://open.s...</td>\n      <td>[AD, AE, AG, AL, AM, AO, AR, AT, AU, AZ, BA, B...</td>\n      <td>1</td>\n      <td>329626</td>\n      <td>False</td>\n      <td>False</td>\n      <td>{'isrc': 'DEN961801830'}</td>\n      <td>{'spotify': 'https://open.spotify.com/track/2P...</td>\n      <td>https://api.spotify.com/v1/tracks/2PD8ghbTwRy3...</td>\n      <td>2PD8ghbTwRy3tqQkXnMsjs</td>\n      <td>False</td>\n      <td>Rêverie, L. 68</td>\n      <td>34</td>\n      <td>None</td>\n      <td>True</td>\n      <td>12</td>\n      <td>track</td>\n      <td>spotify:track:2PD8ghbTwRy3tqQkXnMsjs</td>\n    </tr>\n    <tr>\n      <th>366</th>\n      <td>{'album_type': 'compilation', 'artists': [{'ex...</td>\n      <td>[{'external_urls': {'spotify': 'https://open.s...</td>\n      <td>[AE, AR, AT, AU, BE, BG, BH, BO, BR, CA, CH, C...</td>\n      <td>1</td>\n      <td>567533</td>\n      <td>False</td>\n      <td>False</td>\n      <td>{'isrc': 'DEF058100130'}</td>\n      <td>{'spotify': 'https://open.spotify.com/track/2w...</td>\n      <td>https://api.spotify.com/v1/tracks/2wcqhYITSlQz...</td>\n      <td>2wcqhYITSlQzZ8dqw6n9VQ</td>\n      <td>False</td>\n      <td>4 Ballades, Op. 10: No. 4 In B</td>\n      <td>31</td>\n      <td>None</td>\n      <td>True</td>\n      <td>137</td>\n      <td>track</td>\n      <td>spotify:track:2wcqhYITSlQzZ8dqw6n9VQ</td>\n    </tr>\n    <tr>\n      <th>367</th>\n      <td>{'album_type': 'single', 'artists': [{'externa...</td>\n      <td>[{'external_urls': {'spotify': 'https://open.s...</td>\n      <td>[AD, AE, AG, AL, AM, AO, AR, AT, AU, AZ, BA, B...</td>\n      <td>1</td>\n      <td>602175</td>\n      <td>False</td>\n      <td>False</td>\n      <td>{'isrc': 'DEN961902160'}</td>\n      <td>{'spotify': 'https://open.spotify.com/track/2k...</td>\n      <td>https://api.spotify.com/v1/tracks/2kAdK72mjmKi...</td>\n      <td>2kAdK72mjmKiAxfAMGgXBU</td>\n      <td>False</td>\n      <td>Rondo in A Minor, K. 511</td>\n      <td>41</td>\n      <td>None</td>\n      <td>True</td>\n      <td>1</td>\n      <td>track</td>\n      <td>spotify:track:2kAdK72mjmKiAxfAMGgXBU</td>\n    </tr>\n  </tbody>\n</table>\n<p>368 rows × 19 columns</p>\n</div>"
     },
     "execution_count": 9,
     "metadata": {},
     "output_type": "execute_result"
    }
   ],
   "source": [
    "# just put colomn track in a new dataframe\n",
    "tracksSangeeths = tracksSangeeths['track']\n",
    "tracksStiafen = tracksStiafen['track']\n",
    "# get all the info in colomn track\n",
    "tracksSangeeths = tracksSangeeths.apply(pd.Series)\n",
    "tracksStiafen = tracksStiafen.apply(pd.Series)\n",
    "tracksStiafen\n",
    "\n",
    "\n"
   ],
   "metadata": {
    "collapsed": false
   }
  },
  {
   "cell_type": "markdown",
   "id": "6902a361",
   "metadata": {},
   "source": []
  },
  {
   "cell_type": "code",
   "execution_count": 28,
   "id": "1f910536",
   "metadata": {},
   "outputs": [
    {
     "name": "stdout",
     "output_type": "stream",
     "text": [
      "                                                 album  \\\n",
      "0    {'album_type': 'album', 'artists': [{'external...   \n",
      "1    {'album_type': 'album', 'artists': [{'external...   \n",
      "2    {'album_type': 'album', 'artists': [{'external...   \n",
      "3    {'album_type': 'album', 'artists': [{'external...   \n",
      "4    {'album_type': 'album', 'artists': [{'external...   \n",
      "..                                                 ...   \n",
      "363  {'album_type': 'album', 'artists': [{'external...   \n",
      "364  {'album_type': 'album', 'artists': [{'external...   \n",
      "365  {'album_type': 'album', 'artists': [{'external...   \n",
      "366  {'album_type': 'compilation', 'artists': [{'ex...   \n",
      "367  {'album_type': 'single', 'artists': [{'externa...   \n",
      "\n",
      "                                               artists  \\\n",
      "0    [{'external_urls': {'spotify': 'https://open.s...   \n",
      "1    [{'external_urls': {'spotify': 'https://open.s...   \n",
      "2    [{'external_urls': {'spotify': 'https://open.s...   \n",
      "3    [{'external_urls': {'spotify': 'https://open.s...   \n",
      "4    [{'external_urls': {'spotify': 'https://open.s...   \n",
      "..                                                 ...   \n",
      "363  [{'external_urls': {'spotify': 'https://open.s...   \n",
      "364  [{'external_urls': {'spotify': 'https://open.s...   \n",
      "365  [{'external_urls': {'spotify': 'https://open.s...   \n",
      "366  [{'external_urls': {'spotify': 'https://open.s...   \n",
      "367  [{'external_urls': {'spotify': 'https://open.s...   \n",
      "\n",
      "                                     available_markets  disc_number  \\\n",
      "0    [AD, AE, AG, AL, AM, AO, AR, AT, AU, AZ, BA, B...            1   \n",
      "1    [AD, AE, AG, AL, AM, AO, AR, AT, AU, AZ, BA, B...            1   \n",
      "2    [AE, AG, AL, AM, AO, AR, AT, AU, AZ, BA, BB, B...            1   \n",
      "3    [AD, AE, AG, AL, AM, AO, AR, AT, AU, AZ, BA, B...            1   \n",
      "4    [AD, AE, AG, AL, AM, AO, AR, AT, AU, AZ, BA, B...            1   \n",
      "..                                                 ...          ...   \n",
      "363  [AD, AE, AG, AL, AM, AO, AR, AT, AU, AZ, BA, B...            1   \n",
      "364  [AD, AE, AG, AL, AM, AO, AR, AT, AU, AZ, BA, B...            1   \n",
      "365  [AD, AE, AG, AL, AM, AO, AR, AT, AU, AZ, BA, B...            1   \n",
      "366  [AE, AR, AT, AU, BE, BG, BH, BO, BR, CA, CH, C...            1   \n",
      "367  [AD, AE, AG, AL, AM, AO, AR, AT, AU, AZ, BA, B...            1   \n",
      "\n",
      "     duration_ms  episode  explicit              external_ids  \\\n",
      "0        1463703    False     False  {'isrc': 'DESR72036116'}   \n",
      "1         378733    False     False  {'isrc': 'DEE861700261'}   \n",
      "2         295218    False     False  {'isrc': 'DEN960100244'}   \n",
      "3         132120    False     False  {'isrc': 'HKI190055512'}   \n",
      "4         407946    False     False  {'isrc': 'DEAD62004705'}   \n",
      "..           ...      ...       ...                       ...   \n",
      "363       118200    False     False  {'isrc': 'USX761440301'}   \n",
      "364       965280    False     False  {'isrc': 'GBAYC0702035'}   \n",
      "365       329626    False     False  {'isrc': 'DEN961801830'}   \n",
      "366       567533    False     False  {'isrc': 'DEF058100130'}   \n",
      "367       602175    False     False  {'isrc': 'DEN961902160'}   \n",
      "\n",
      "                                         external_urls  \\\n",
      "0    {'spotify': 'https://open.spotify.com/track/3d...   \n",
      "1    {'spotify': 'https://open.spotify.com/track/1O...   \n",
      "2    {'spotify': 'https://open.spotify.com/track/3o...   \n",
      "3    {'spotify': 'https://open.spotify.com/track/5T...   \n",
      "4    {'spotify': 'https://open.spotify.com/track/6a...   \n",
      "..                                                 ...   \n",
      "363  {'spotify': 'https://open.spotify.com/track/0B...   \n",
      "364  {'spotify': 'https://open.spotify.com/track/2J...   \n",
      "365  {'spotify': 'https://open.spotify.com/track/2P...   \n",
      "366  {'spotify': 'https://open.spotify.com/track/2w...   \n",
      "367  {'spotify': 'https://open.spotify.com/track/2k...   \n",
      "\n",
      "                                                  href  \\\n",
      "0    https://api.spotify.com/v1/tracks/3ddAtoSripae...   \n",
      "1    https://api.spotify.com/v1/tracks/1Oo7XEqkrwif...   \n",
      "2    https://api.spotify.com/v1/tracks/3o9br9LskOEb...   \n",
      "3    https://api.spotify.com/v1/tracks/5TtmI9sfXw4V...   \n",
      "4    https://api.spotify.com/v1/tracks/6aD8MeXrjHNz...   \n",
      "..                                                 ...   \n",
      "363  https://api.spotify.com/v1/tracks/0BgHDpDnFg1W...   \n",
      "364  https://api.spotify.com/v1/tracks/2JzsHRzDT3kC...   \n",
      "365  https://api.spotify.com/v1/tracks/2PD8ghbTwRy3...   \n",
      "366  https://api.spotify.com/v1/tracks/2wcqhYITSlQz...   \n",
      "367  https://api.spotify.com/v1/tracks/2kAdK72mjmKi...   \n",
      "\n",
      "                         id  is_local  \\\n",
      "0    3ddAtoSripaeASJeovlIsg     False   \n",
      "1    1Oo7XEqkrwifJn17aA0ocF     False   \n",
      "2    3o9br9LskOEbwc5irxfHqR     False   \n",
      "3    5TtmI9sfXw4VXco0PE21mV     False   \n",
      "4    6aD8MeXrjHNz7YgrTLHhyA     False   \n",
      "..                      ...       ...   \n",
      "363  0BgHDpDnFg1Wfm9r7XsWeG     False   \n",
      "364  2JzsHRzDT3kCokSu0ggZ8U     False   \n",
      "365  2PD8ghbTwRy3tqQkXnMsjs     False   \n",
      "366  2wcqhYITSlQzZ8dqw6n9VQ     False   \n",
      "367  2kAdK72mjmKiAxfAMGgXBU     False   \n",
      "\n",
      "                                                  name  popularity  \\\n",
      "0    Symphony No. 3 in D Minor: VI. Langsam. Ruhevo...          27   \n",
      "1    Sechs Klavierstücke, Op. 118: II. Intermezzo i...          64   \n",
      "2    Serenade for Strings in E Major, Op. 22, B. 52...          51   \n",
      "3                   2 Aquarelles: Lento, ma non troppo          63   \n",
      "4    Serenade for Strings in E Minor, Op. 20: II. L...          39   \n",
      "..                                                 ...         ...   \n",
      "363  Book I: Prelude and Fugue No. 1 in C Major BWV...          39   \n",
      "364  Schumann: Piano Concerto in A Minor, Op. 54: I...          31   \n",
      "365                                     Rêverie, L. 68          34   \n",
      "366                     4 Ballades, Op. 10: No. 4 In B          31   \n",
      "367                           Rondo in A Minor, K. 511          41   \n",
      "\n",
      "                                           preview_url  track  track_number  \\\n",
      "0    https://p.scdn.co/mp3-preview/87233ea4f437e0c7...   True             6   \n",
      "1    https://p.scdn.co/mp3-preview/34054c2ef25c45bb...   True             9   \n",
      "2                                                 None   True             4   \n",
      "3    https://p.scdn.co/mp3-preview/53e4cd9c2b3f4a4c...   True            12   \n",
      "4    https://p.scdn.co/mp3-preview/9638a58cd7378e33...   True             5   \n",
      "..                                                 ...    ...           ...   \n",
      "363  https://p.scdn.co/mp3-preview/8aabf7351a2e09f0...   True             1   \n",
      "364  https://p.scdn.co/mp3-preview/a4ac5cbd82a3c6a8...   True             4   \n",
      "365                                               None   True            12   \n",
      "366                                               None   True           137   \n",
      "367                                               None   True             1   \n",
      "\n",
      "      type                                   uri  artistpopularity  \n",
      "0    track  spotify:track:3ddAtoSripaeASJeovlIsg                55  \n",
      "1    track  spotify:track:1Oo7XEqkrwifJn17aA0ocF                67  \n",
      "2    track  spotify:track:3o9br9LskOEbwc5irxfHqR                60  \n",
      "3    track  spotify:track:5TtmI9sfXw4VXco0PE21mV                50  \n",
      "4    track  spotify:track:6aD8MeXrjHNz7YgrTLHhyA                58  \n",
      "..     ...                                   ...               ...  \n",
      "363  track  spotify:track:0BgHDpDnFg1Wfm9r7XsWeG                79  \n",
      "364  track  spotify:track:2JzsHRzDT3kCokSu0ggZ8U                65  \n",
      "365  track  spotify:track:2PD8ghbTwRy3tqQkXnMsjs                64  \n",
      "366  track  spotify:track:2wcqhYITSlQzZ8dqw6n9VQ                67  \n",
      "367  track  spotify:track:2kAdK72mjmKiAxfAMGgXBU                75  \n",
      "\n",
      "[368 rows x 20 columns]\n"
     ]
    }
   ],
   "source": [
    "#Get Audio features for all tracks in favorite Playlist\n",
    "features = []\n",
    "genres = []\n",
    "popularity = []\n",
    "\n",
    "#Falls lokale Kopie der Daten existiert wird diese verwendet\n",
    "if not os.path.isfile('audiofeatures_stiafen.csv'):\n",
    "\n",
    "    #Extract Audio Features\n",
    "    for uri in tracksStiafen['uri']:\n",
    "\n",
    "        features = features+sp.audio_features(uri)\n",
    "\n",
    "    audioFeaturesStiafen = pd.DataFrame(features)\n",
    "    audioFeaturesStiafen['user'] = \"Stiafen\"\n",
    "\n",
    "    #Extract Artistpopularity\n",
    "    for artist in tracksStiafen['artists']:\n",
    "        dictionary = artist[0]\n",
    "        artistinfo = sp.artist(dictionary['id'])\n",
    "        artistpopularity = artistinfo['popularity']\n",
    "        popularity.append(artistpopularity)\n",
    "\n",
    "\n",
    "    tracksStiafen['artistpopularity'] = popularity\n",
    "    audioFeaturesStiafen['artistpopularity'] = popularity\n",
    "\n",
    "\n",
    "    #audioFeaturesStiafen.to_csv('audiofeatures_stiafen.csv')\n",
    "\n",
    "else:\n",
    "    audioFeaturesStiafen = pd.read_csv('audiofeatures_stiafen.csv')\n",
    "\n",
    "\n",
    "\n",
    "if not os.path.isfile('audiofeatures_sangeeths.csv'):\n",
    "    for uri in tracksSangeeths['uri']:\n",
    "       features = features+sp.audio_features(uri)\n",
    "    audioFeaturesSangeeths = pd.DataFrame(features)\n",
    "    audioFeaturesSangeeths['user'] = \"Sangeeths\"\n",
    "    audioFeaturesSangeeths.to_csv('audiofeatures_sangeeths.csv')\n",
    "\n",
    "    for artist in tracksSangeeths['artists']:\n",
    "        dictionary = artist[0]\n",
    "        artistinfo = sp.artist(dictionary['id'])\n",
    "        artistpopularity = artistinfo['popularity']\n",
    "        popularity.append(artistpopularity)\n",
    "\n",
    "    tracksSangeeths['artistpopularity'] = popularity\n",
    "    audioFeaturesSangeeths['artistpopularity'] = popularity\n",
    "\n",
    "else:\n",
    "    audioFeaturesSangeeths = pd.read_csv('audiofeatures_sangeeths.csv')\n",
    "\n",
    "#Ausgabe zur Kontrolle\n",
    "#audioFeaturesSangeeths\n",
    "\n",
    "\n",
    "\n",
    "\n",
    "\n",
    "\n",
    "\n",
    "    #Extrahiere Genres aller Artists aus einem Track und füge sie als genre Feld an das Dataframe an\n",
    "   # for album in tracksStiafen[\"album\"]:\n",
    "    #    albumgenres = []\n",
    "\n",
    " #       for artist in album[\"artists\"]:\n",
    "  #          artistinfo = sp.artist(artist['uri'])\n",
    "   #         artistgenres = artistinfo[\"genres\"]\n",
    "    #        albumgenres = albumgenres+artistgenres\n",
    "\n",
    " #       genres = genres+albumgenres\n",
    "\n",
    "\n",
    " #   genresStiafen = pd.DataFrame(genres)\n",
    "\n",
    "   # print(audioFeaturesStiafen)\n",
    "    #print(genresStiafen)\n",
    "    #genresStiafen.to_csv('genres_stiafen.csv')"
   ]
  },
  {
   "cell_type": "code",
   "execution_count": null,
   "outputs": [],
   "source": [
    "tracksStiafen.corr()\n",
    "\n"
   ],
   "metadata": {
    "collapsed": false
   }
  },
  {
   "cell_type": "markdown",
   "source": [
    "# Visualisierungen\n",
    "Da wir mit Machinelearning eine Klassifikation durchführen wollen, suchen wir bei der Visualisierung mittels Scatterplots nach möglichen Clustern."
   ],
   "metadata": {
    "collapsed": false
   }
  },
  {
   "cell_type": "code",
   "execution_count": null,
   "outputs": [],
   "source": [
    "#Beginn Visualisierungen\n",
    "#Dataframe um mögliche Cluster zu finden\n",
    "allAudioFeatures = audioFeaturesSangeeths.append(audioFeaturesStiafen)"
   ],
   "metadata": {
    "collapsed": false
   }
  },
  {
   "cell_type": "markdown",
   "source": [],
   "metadata": {
    "collapsed": false
   }
  },
  {
   "cell_type": "code",
   "execution_count": null,
   "id": "f571c4f9",
   "metadata": {},
   "outputs": [],
   "source": [
    "sns.scatterplot(data=allAudioFeatures, x=\"energy\", y=\"danceability\", hue=\"user\")"
   ]
  },
  {
   "cell_type": "code",
   "execution_count": null,
   "outputs": [],
   "source": [
    "sns.scatterplot(data=allAudioFeatures, x=\"tempo\", y=\"loudness\", hue=\"user\")"
   ],
   "metadata": {
    "collapsed": false
   }
  },
  {
   "cell_type": "code",
   "execution_count": null,
   "outputs": [],
   "source": [
    "sns.scatterplot(data=allAudioFeatures, x=\"speechiness\", y=\"acousticness\", hue=\"user\")"
   ],
   "metadata": {
    "collapsed": false
   }
  },
  {
   "cell_type": "code",
   "execution_count": null,
   "outputs": [],
   "source": [
    "sns.scatterplot(data=allAudioFeatures, x=\"liveness\", y=\"instrumentalness\", hue=\"user\")"
   ],
   "metadata": {
    "collapsed": false
   }
  },
  {
   "cell_type": "code",
   "execution_count": null,
   "outputs": [],
   "source": [
    "sns.scatterplot(data=allAudioFeatures, x=\"energy\", y=\"loudness\", hue=\"user\")"
   ],
   "metadata": {
    "collapsed": false
   }
  },
  {
   "cell_type": "code",
   "execution_count": null,
   "outputs": [],
   "source": [
    "sns.scatterplot(data=allAudioFeatures, x=\"tempo\", y=\"danceability\", hue=\"user\")"
   ],
   "metadata": {
    "collapsed": false
   }
  },
  {
   "cell_type": "code",
   "execution_count": null,
   "outputs": [],
   "source": [
    "sns.scatterplot(data=allAudioFeatures, x=\"instrumentalness\", y=\"loudness\", hue=\"user\")"
   ],
   "metadata": {
    "collapsed": false
   }
  },
  {
   "cell_type": "code",
   "execution_count": null,
   "outputs": [],
   "source": [
    "sns.scatterplot(data=allAudioFeatures, x=\"liveness\", y=\"loudness\", hue=\"user\")"
   ],
   "metadata": {
    "collapsed": false
   }
  },
  {
   "cell_type": "code",
   "execution_count": null,
   "outputs": [],
   "source": [
    "sns.scatterplot(data=allAudioFeatures, x=\"instrumentalness\", y=\"speechiness\", hue=\"user\")"
   ],
   "metadata": {
    "collapsed": false
   }
  },
  {
   "cell_type": "code",
   "execution_count": null,
   "outputs": [],
   "source": [
    "sns.scatterplot(data=allAudioFeatures, x=\"loudness\", y=\"danceability\", hue=\"user\")"
   ],
   "metadata": {
    "collapsed": false
   }
  },
  {
   "cell_type": "code",
   "execution_count": null,
   "outputs": [],
   "source": [],
   "metadata": {
    "collapsed": false
   }
  }
 ],
 "metadata": {
  "kernelspec": {
   "display_name": "base",
   "language": "python",
   "name": "python3"
  },
  "language_info": {
   "codemirror_mode": {
    "name": "ipython",
    "version": 3
   },
   "file_extension": ".py",
   "mimetype": "text/x-python",
   "name": "python",
   "nbconvert_exporter": "python",
   "pygments_lexer": "ipython3",
   "version": "3.9.12"
  },
  "vscode": {
   "interpreter": {
    "hash": "ae9a7d9487522a32e05e93c24ebd7bce3d2603c885a6c5ff62d83af700e228db"
   }
  }
 },
 "nbformat": 4,
 "nbformat_minor": 5
}
